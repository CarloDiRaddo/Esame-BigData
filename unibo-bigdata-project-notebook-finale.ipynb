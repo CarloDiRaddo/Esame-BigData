{
 "cells": [
  {
   "cell_type": "code",
   "execution_count": 1,
   "id": "441b0add-20b4-4ec1-9b2d-f8ae066f9e31",
   "metadata": {
    "execution": {
     "iopub.execute_input": "2023-03-09T15:09:00.128683Z",
     "iopub.status.busy": "2023-03-09T15:09:00.128330Z",
     "iopub.status.idle": "2023-03-09T15:09:40.850849Z",
     "shell.execute_reply": "2023-03-09T15:09:40.850134Z",
     "shell.execute_reply.started": "2023-03-09T15:09:00.128653Z"
    },
    "tags": []
   },
   "outputs": [
    {
     "data": {
      "application/vnd.jupyter.widget-view+json": {
       "model_id": "a814dd3cdac647f5bed4aad80f16146c",
       "version_major": 2,
       "version_minor": 0
      },
      "text/plain": [
       "VBox()"
      ]
     },
     "metadata": {},
     "output_type": "display_data"
    },
    {
     "name": "stdout",
     "output_type": "stream",
     "text": [
      "Starting Spark application\n"
     ]
    },
    {
     "data": {
      "text/html": [
       "<table>\n",
       "<tr><th>ID</th><th>YARN Application ID</th><th>Kind</th><th>State</th><th>Spark UI</th><th>Driver log</th><th>User</th><th>Current session?</th></tr><tr><td>0</td><td>application_1678372684627_0001</td><td>spark</td><td>idle</td><td><a target=\"_blank\" href=\"http://ip-172-31-82-131.ec2.internal:20888/proxy/application_1678372684627_0001/\" class=\"emr-proxy-link\" emr-resource=\"j-1R1K02LH538LK\n",
       "\" application-id=\"application_1678372684627_0001\">Link</a></td><td><a target=\"_blank\" href=\"http://ip-172-31-90-1.ec2.internal:8042/node/containerlogs/container_1678372684627_0001_01_000001/livy\" >Link</a></td><td>None</td><td>✔</td></tr></table>"
      ],
      "text/plain": [
       "<IPython.core.display.HTML object>"
      ]
     },
     "metadata": {},
     "output_type": "display_data"
    },
    {
     "data": {
      "application/vnd.jupyter.widget-view+json": {
       "model_id": "",
       "version_major": 2,
       "version_minor": 0
      },
      "text/plain": [
       "FloatProgress(value=0.0, bar_style='info', description='Progress:', layout=Layout(height='25px', width='50%'),…"
      ]
     },
     "metadata": {},
     "output_type": "display_data"
    },
    {
     "name": "stdout",
     "output_type": "stream",
     "text": [
      "SparkSession available as 'spark'.\n"
     ]
    },
    {
     "data": {
      "application/vnd.jupyter.widget-view+json": {
       "model_id": "",
       "version_major": 2,
       "version_minor": 0
      },
      "text/plain": [
       "FloatProgress(value=0.0, bar_style='info', description='Progress:', layout=Layout(height='25px', width='50%'),…"
      ]
     },
     "metadata": {},
     "output_type": "display_data"
    },
    {
     "name": "stdout",
     "output_type": "stream",
     "text": [
      "bucketname: String = unibo-bigdata-project\n",
      "pathSales: String = s3a://unibo-bigdata-project/datasets/Liquor_Sales.csv\n",
      "res3: String = application_1678372684627_0001\n",
      "res5: String = SPARK UI: Enable forwarding of port 20888 and connect to http://localhost:20888/proxy/application_1678372684627_0001/\n"
     ]
    }
   ],
   "source": [
    "val bucketname = \"unibo-bigdata-project\"\n",
    "\n",
    "val pathSales = \"s3a://\"+bucketname+\"/datasets/Liquor_Sales.csv\"\n",
    "\n",
    "sc.applicationId\n",
    "\n",
    "\"SPARK UI: Enable forwarding of port 20888 and connect to http://localhost:20888/proxy/\" + sc.applicationId + \"/\""
   ]
  },
  {
   "cell_type": "code",
   "execution_count": 2,
   "id": "22700f39-9960-4aa2-a71b-383e2927ff67",
   "metadata": {
    "execution": {
     "iopub.execute_input": "2023-03-09T15:12:06.982881Z",
     "iopub.status.busy": "2023-03-09T15:12:06.982579Z",
     "iopub.status.idle": "2023-03-09T15:12:09.308779Z",
     "shell.execute_reply": "2023-03-09T15:12:09.308008Z",
     "shell.execute_reply.started": "2023-03-09T15:12:06.982854Z"
    },
    "tags": []
   },
   "outputs": [
    {
     "data": {
      "application/vnd.jupyter.widget-view+json": {
       "model_id": "3ef6e2b1ebca4d2fbe45d3489cb064e4",
       "version_major": 2,
       "version_minor": 0
      },
      "text/plain": [
       "VBox()"
      ]
     },
     "metadata": {},
     "output_type": "display_data"
    },
    {
     "data": {
      "application/vnd.jupyter.widget-view+json": {
       "model_id": "",
       "version_major": 2,
       "version_minor": 0
      },
      "text/plain": [
       "FloatProgress(value=0.0, bar_style='info', description='Progress:', layout=Layout(height='25px', width='50%'),…"
      ]
     },
     "metadata": {},
     "output_type": "display_data"
    },
    {
     "name": "stdout",
     "output_type": "stream",
     "text": [
      "import org.apache.spark.sql.SaveMode\n",
      "defined object LiquorSalesParser\n"
     ]
    }
   ],
   "source": [
    "import org.apache.spark.sql.SaveMode\n",
    "\n",
    "object LiquorSalesParser {\n",
    "    \n",
    "\n",
    "\n",
    "  \n",
    "  /** Function to parse stores records\n",
    "   *\n",
    "   *  @param line line that has to be parsed\n",
    "   *  @return tuple containing storeNumber, storeName,, productsID none in case of input errors\n",
    "   */\n",
    "    \n",
    "  def parseStores(line: String) : Option[(Long, String, String)] = {\n",
    "    try {\n",
    "      val input = line.split(',')\n",
    "      Some(input(2).trim.toLong, input(3),  input(16))\n",
    "    } catch {\n",
    "      case _: Exception => None\n",
    "    }\n",
    "  }  \n",
    "    \n",
    "    \n",
    "    \n",
    "  /** Function to parse items (products) records\n",
    "   *\n",
    "   *  @param line line that has to be parsed\n",
    "   *  @return tuple containing itemNumber, itemName, Sales($), categoryName none in case of input errors\n",
    "   */\n",
    "    \n",
    "    def parseItems(line: String) : Option[(Long, String, Double, String, Int)] = {\n",
    "      try {\n",
    "        val input = line.split(',')\n",
    "        val date = input(1)\n",
    "        val year = date.split(\"/\").last.toInt\n",
    "        Some(input(14).trim.toLong, input(15), input(22).trim.toDouble, input(11), year)\n",
    "      } catch {\n",
    "        case _: Exception => None\n",
    "      }\n",
    "    }\n",
    " \n",
    "\n",
    "\n",
    "/** Function to parse country records\n",
    "   *\n",
    "   *  @param line line that has to be parsed\n",
    "   *  @return tuple containing countryNumber, countryName, VolumeSold(L), Sales($), date\n",
    "   */\n",
    "    \n",
    "  def parseCountries(line: String) : Option[(String, String, Double, Double, String)] = {\n",
    "    try {\n",
    "      val input = line.split(',')\n",
    "      Some(input(9), input(10), input(23).trim.toDouble, input(22).trim.toDouble, input(2))\n",
    "    } catch {\n",
    "      case _: Exception => None\n",
    "    }\n",
    "  }  \n",
    "    \n",
    "    \n",
    "/** Function to parse city records\n",
    "   *\n",
    "   *  @param line line that has to be parsed\n",
    "   *  @return tuple containing zipCode, cityName\n",
    "   */\n",
    "    \n",
    "  def parseCities(line: String) : Option[(String, Long)] = {\n",
    "    try {\n",
    "      val input = line.split(',')\n",
    "      Some(input(6), input(7).trim.toLong)\n",
    "    } catch {\n",
    "      case _: Exception => None\n",
    "    }\n",
    "  }\n",
    "\n",
    "    \n",
    "    \n",
    "/** Function to parse categories records\n",
    "   *\n",
    "   *  @param line line that has to be parsed\n",
    "   *  @return tuple containing categoryNumber, categoryName, bottleSold,  Sales($)\n",
    "   */\n",
    "    \n",
    "  def parseCategories(line: String) : Option[(Long, String, Long, Double)] = {\n",
    "    try {\n",
    "      val input = line.split(',')\n",
    "      Some(input(11).trim.toLong, input(12), input(21).trim.toLong, input(22).trim.toDouble)\n",
    "    } catch {\n",
    "      case _: Exception => None\n",
    "    }\n",
    "  }\n",
    "    \n",
    "    \n",
    "/** Function to parse vendors records\n",
    "   *\n",
    "   *  @param line line that has to be parsed\n",
    "   *  @return tuple containing vendorNumber, vendorName\n",
    "   */\n",
    "    \n",
    "  def parseVendors(line: String) : Option[( Long, String)] = {\n",
    "    try {\n",
    "      val input = line.split(',')\n",
    "      Some(input(13).trim.toLong, input(14))\n",
    "    } catch {\n",
    "      case _: Exception => None\n",
    "    }\n",
    "  }    \n",
    "}"
   ]
  },
  {
   "cell_type": "code",
   "execution_count": 3,
   "id": "776efe4c-6080-41d1-bfce-dafbf4d74a26",
   "metadata": {
    "execution": {
     "iopub.execute_input": "2023-03-09T15:12:15.798655Z",
     "iopub.status.busy": "2023-03-09T15:12:15.798348Z",
     "iopub.status.idle": "2023-03-09T15:12:19.107753Z",
     "shell.execute_reply": "2023-03-09T15:12:19.106722Z",
     "shell.execute_reply.started": "2023-03-09T15:12:15.798631Z"
    },
    "tags": []
   },
   "outputs": [
    {
     "data": {
      "application/vnd.jupyter.widget-view+json": {
       "model_id": "7617004236b74af4827ef9506b551082",
       "version_major": 2,
       "version_minor": 0
      },
      "text/plain": [
       "VBox()"
      ]
     },
     "metadata": {},
     "output_type": "display_data"
    },
    {
     "data": {
      "application/vnd.jupyter.widget-view+json": {
       "model_id": "",
       "version_major": 2,
       "version_minor": 0
      },
      "text/plain": [
       "FloatProgress(value=0.0, bar_style='info', description='Progress:', layout=Layout(height='25px', width='50%'),…"
      ]
     },
     "metadata": {},
     "output_type": "display_data"
    },
    {
     "name": "stdout",
     "output_type": "stream",
     "text": [
      "rddStores: org.apache.spark.rdd.RDD[(Long, String, String)] = MapPartitionsRDD[2] at flatMap at <console>:26\n",
      "rddItems: org.apache.spark.rdd.RDD[(Long, String, Double, String, Int)] = MapPartitionsRDD[5] at flatMap at <console>:26\n",
      "rddCountries: org.apache.spark.rdd.RDD[(String, String, Double, Double, String)] = MapPartitionsRDD[8] at flatMap at <console>:26\n",
      "rddCities: org.apache.spark.rdd.RDD[(String, Long)] = MapPartitionsRDD[11] at flatMap at <console>:26\n",
      "rddCategories: org.apache.spark.rdd.RDD[(Long, String, Long, Double)] = MapPartitionsRDD[14] at flatMap at <console>:26\n",
      "rddVendors: org.apache.spark.rdd.RDD[(Long, String)] = MapPartitionsRDD[17] at flatMap at <console>:26\n"
     ]
    }
   ],
   "source": [
    "val rddStores = sc.textFile(pathSales).flatMap(LiquorSalesParser.parseStores)\n",
    "val rddItems = sc.textFile(pathSales).flatMap(LiquorSalesParser.parseItems)\n",
    "val rddCountries = sc.textFile(pathSales).flatMap(LiquorSalesParser.parseCountries)\n",
    "val rddCities = sc.textFile(pathSales).flatMap(LiquorSalesParser.parseCities)\n",
    "val rddCategories = sc.textFile(pathSales).flatMap(LiquorSalesParser.parseCategories)\n",
    "val rddVendors = sc.textFile(pathSales).flatMap(LiquorSalesParser.parseVendors)"
   ]
  },
  {
   "cell_type": "code",
   "execution_count": 4,
   "id": "5bf7f6c8-29f2-4f6e-91d4-2e2b416e0f52",
   "metadata": {
    "execution": {
     "iopub.execute_input": "2023-03-01T15:29:33.756976Z",
     "iopub.status.busy": "2023-03-01T15:29:33.756309Z",
     "iopub.status.idle": "2023-03-01T15:31:17.427164Z",
     "shell.execute_reply": "2023-03-01T15:31:17.426298Z",
     "shell.execute_reply.started": "2023-03-01T15:29:33.756935Z"
    },
    "tags": []
   },
   "outputs": [
    {
     "data": {
      "application/vnd.jupyter.widget-view+json": {
       "model_id": "ee153b303e2541649d0af4831277276f",
       "version_major": 2,
       "version_minor": 0
      },
      "text/plain": [
       "VBox()"
      ]
     },
     "metadata": {},
     "output_type": "display_data"
    },
    {
     "data": {
      "application/vnd.jupyter.widget-view+json": {
       "model_id": "",
       "version_major": 2,
       "version_minor": 0
      },
      "text/plain": [
       "FloatProgress(value=0.0, bar_style='info', description='Progress:', layout=Layout(height='25px', width='50%'),…"
      ]
     },
     "metadata": {},
     "output_type": "display_data"
    },
    {
     "name": "stdout",
     "output_type": "stream",
     "text": [
      "rddStoresCached: rddStores.type = MapPartitionsRDD[2] at flatMap at <console>:26\n",
      "res9: String = Number of Stores group by their name: 2632\n",
      "res10: String = Number of Stores group by their code: 2484\n"
     ]
    }
   ],
   "source": [
    "/*Da questa analisi possiamo capire che il numero degli stores number e degli stores name è diverso => che il nome di un negozio può\n",
    "essere cambiato nel corso degli anni => negozio#1(nome1,nome2,nome3)*/\n",
    "\n",
    "val rddStoresCached = rddStores.cache()\n",
    "\"Number of Stores group by their name: \" + rddStoresCached.map(x => (x._2)).distinct().count()\n",
    "\"Number of Stores group by their code: \" + rddStoresCached.map(x => (x._1)).distinct().count()"
   ]
  },
  {
   "cell_type": "code",
   "execution_count": 5,
   "id": "18667c64-9252-4419-93d4-c913946fab5b",
   "metadata": {
    "execution": {
     "iopub.execute_input": "2023-03-01T15:31:17.429741Z",
     "iopub.status.busy": "2023-03-01T15:31:17.429155Z",
     "iopub.status.idle": "2023-03-01T15:33:11.086930Z",
     "shell.execute_reply": "2023-03-01T15:33:11.086072Z",
     "shell.execute_reply.started": "2023-03-01T15:31:17.429703Z"
    },
    "tags": []
   },
   "outputs": [
    {
     "data": {
      "application/vnd.jupyter.widget-view+json": {
       "model_id": "029833d59b6d46468e2b1bb986d2e7b1",
       "version_major": 2,
       "version_minor": 0
      },
      "text/plain": [
       "VBox()"
      ]
     },
     "metadata": {},
     "output_type": "display_data"
    },
    {
     "data": {
      "application/vnd.jupyter.widget-view+json": {
       "model_id": "",
       "version_major": 2,
       "version_minor": 0
      },
      "text/plain": [
       "FloatProgress(value=0.0, bar_style='info', description='Progress:', layout=Layout(height='25px', width='50%'),…"
      ]
     },
     "metadata": {},
     "output_type": "display_data"
    },
    {
     "name": "stdout",
     "output_type": "stream",
     "text": [
      "rddItemsCached: rddItems.type = MapPartitionsRDD[5] at flatMap at <console>:26\n",
      "res13: String = Number of Items group by their name: 7834\n",
      "res14: String = Number of Items group by their code: 8322\n"
     ]
    }
   ],
   "source": [
    "/*Da questa analisi possiamo capire che il numero degli items number e degli items name è diverso*/\n",
    "\n",
    "val rddItemsCached = rddItems.cache()\n",
    "\"Number of Items group by their name: \" + rddItemsCached.map(x => (x._2)).distinct().count()\n",
    "\"Number of Items group by their code: \" + rddItemsCached.map(x => (x._1)).distinct().count()"
   ]
  },
  {
   "cell_type": "code",
   "execution_count": 6,
   "id": "b9d8c38e-13f0-4e66-880b-3fa52ca0672f",
   "metadata": {
    "execution": {
     "iopub.execute_input": "2023-03-01T15:33:11.088474Z",
     "iopub.status.busy": "2023-03-01T15:33:11.088211Z",
     "iopub.status.idle": "2023-03-01T15:34:52.693600Z",
     "shell.execute_reply": "2023-03-01T15:34:52.692842Z",
     "shell.execute_reply.started": "2023-03-01T15:33:11.088449Z"
    },
    "tags": []
   },
   "outputs": [
    {
     "data": {
      "application/vnd.jupyter.widget-view+json": {
       "model_id": "522a31247a0b442989ad4bcf503030a4",
       "version_major": 2,
       "version_minor": 0
      },
      "text/plain": [
       "VBox()"
      ]
     },
     "metadata": {},
     "output_type": "display_data"
    },
    {
     "data": {
      "application/vnd.jupyter.widget-view+json": {
       "model_id": "",
       "version_major": 2,
       "version_minor": 0
      },
      "text/plain": [
       "FloatProgress(value=0.0, bar_style='info', description='Progress:', layout=Layout(height='25px', width='50%'),…"
      ]
     },
     "metadata": {},
     "output_type": "display_data"
    },
    {
     "name": "stdout",
     "output_type": "stream",
     "text": [
      "rddCountriesCached: rddCountries.type = MapPartitionsRDD[8] at flatMap at <console>:26\n",
      "res15: String = Number of countries group by their name: 277\n",
      "res16: String = Number of countries group by their code: 298\n"
     ]
    }
   ],
   "source": [
    "val rddCountriesCached = rddCountries.cache()\n",
    "\"Number of countries group by their name: \" + rddCountriesCached.map(x => (x._2)).distinct().count()\n",
    "\"Number of countries group by their code: \" + rddCountriesCached.map(x => (x._1)).distinct().count()"
   ]
  },
  {
   "cell_type": "code",
   "execution_count": 7,
   "id": "9f29925e-82ee-404c-8155-6f282ebad5af",
   "metadata": {
    "execution": {
     "iopub.execute_input": "2023-03-01T15:34:52.695314Z",
     "iopub.status.busy": "2023-03-01T15:34:52.694972Z",
     "iopub.status.idle": "2023-03-01T15:36:08.205885Z",
     "shell.execute_reply": "2023-03-01T15:36:08.204871Z",
     "shell.execute_reply.started": "2023-03-01T15:34:52.695277Z"
    }
   },
   "outputs": [
    {
     "data": {
      "application/vnd.jupyter.widget-view+json": {
       "model_id": "8029c5fbe9a94ee495fdbe93e398063c",
       "version_major": 2,
       "version_minor": 0
      },
      "text/plain": [
       "VBox()"
      ]
     },
     "metadata": {},
     "output_type": "display_data"
    },
    {
     "data": {
      "application/vnd.jupyter.widget-view+json": {
       "model_id": "",
       "version_major": 2,
       "version_minor": 0
      },
      "text/plain": [
       "FloatProgress(value=0.0, bar_style='info', description='Progress:', layout=Layout(height='25px', width='50%'),…"
      ]
     },
     "metadata": {},
     "output_type": "display_data"
    },
    {
     "name": "stdout",
     "output_type": "stream",
     "text": [
      "rddCitiesCached: rddCities.type = MapPartitionsRDD[11] at flatMap at <console>:26\n",
      "res17: String = Number of cities group by their name: 218\n",
      "res18: String = Number of cities group by their code: 354\n"
     ]
    }
   ],
   "source": [
    "val rddCitiesCached = rddCities.cache()\n",
    "\"Number of cities group by their name: \" + rddCitiesCached.map(x => (x._2)).distinct().count()\n",
    "\"Number of cities group by their code: \" + rddCitiesCached.map(x => (x._1)).distinct().count()"
   ]
  },
  {
   "cell_type": "code",
   "execution_count": 8,
   "id": "d818c2d1-063e-48c4-8391-94b4795b050f",
   "metadata": {
    "execution": {
     "iopub.execute_input": "2023-03-01T15:36:08.207729Z",
     "iopub.status.busy": "2023-03-01T15:36:08.207393Z",
     "iopub.status.idle": "2023-03-01T15:37:11.683519Z",
     "shell.execute_reply": "2023-03-01T15:37:11.682762Z",
     "shell.execute_reply.started": "2023-03-01T15:36:08.207693Z"
    },
    "tags": []
   },
   "outputs": [
    {
     "data": {
      "application/vnd.jupyter.widget-view+json": {
       "model_id": "bf8e36efc83b4caca7394a18bbb49ee1",
       "version_major": 2,
       "version_minor": 0
      },
      "text/plain": [
       "VBox()"
      ]
     },
     "metadata": {},
     "output_type": "display_data"
    },
    {
     "data": {
      "application/vnd.jupyter.widget-view+json": {
       "model_id": "",
       "version_major": 2,
       "version_minor": 0
      },
      "text/plain": [
       "FloatProgress(value=0.0, bar_style='info', description='Progress:', layout=Layout(height='25px', width='50%'),…"
      ]
     },
     "metadata": {},
     "output_type": "display_data"
    },
    {
     "name": "stdout",
     "output_type": "stream",
     "text": [
      "rddCategoriesCached: rddCategories.type = MapPartitionsRDD[14] at flatMap at <console>:26\n",
      "res19: String = Number of categories group by their name: 128\n",
      "res20: String = Number of categories group by their code: 100\n"
     ]
    }
   ],
   "source": [
    "val rddCategoriesCached = rddCategories.cache()\n",
    "\"Number of categories group by their name: \" + rddCategoriesCached.map(x => (x._2)).distinct().count()\n",
    "\"Number of categories group by their code: \" + rddCategoriesCached.map(x => (x._1)).distinct().count()"
   ]
  },
  {
   "cell_type": "code",
   "execution_count": 9,
   "id": "709aa431-c3fa-4cda-93cc-077792b96698",
   "metadata": {
    "execution": {
     "iopub.execute_input": "2023-03-01T15:37:11.684904Z",
     "iopub.status.busy": "2023-03-01T15:37:11.684666Z",
     "iopub.status.idle": "2023-03-01T15:38:15.161489Z",
     "shell.execute_reply": "2023-03-01T15:38:15.160727Z",
     "shell.execute_reply.started": "2023-03-01T15:37:11.684880Z"
    },
    "tags": []
   },
   "outputs": [
    {
     "data": {
      "application/vnd.jupyter.widget-view+json": {
       "model_id": "5c53760e006e4a8fa696b3035c14ffdc",
       "version_major": 2,
       "version_minor": 0
      },
      "text/plain": [
       "VBox()"
      ]
     },
     "metadata": {},
     "output_type": "display_data"
    },
    {
     "data": {
      "application/vnd.jupyter.widget-view+json": {
       "model_id": "",
       "version_major": 2,
       "version_minor": 0
      },
      "text/plain": [
       "FloatProgress(value=0.0, bar_style='info', description='Progress:', layout=Layout(height='25px', width='50%'),…"
      ]
     },
     "metadata": {},
     "output_type": "display_data"
    },
    {
     "name": "stdout",
     "output_type": "stream",
     "text": [
      "rddVendorsCached: rddVendors.type = MapPartitionsRDD[17] at flatMap at <console>:26\n",
      "res21: String = Number of vendors group by their name: 377\n",
      "res22: String = Number of vendors group by their code: 262\n"
     ]
    }
   ],
   "source": [
    "val rddVendorsCached = rddVendors.cache()\n",
    "\"Number of vendors group by their name: \" + rddVendorsCached.map(x => (x._2)).distinct().count()\n",
    "\"Number of vendors group by their code: \" + rddVendorsCached.map(x => (x._1)).distinct().count()"
   ]
  },
  {
   "cell_type": "code",
   "execution_count": 10,
   "id": "1bedfe54-7c38-4c61-ae5a-24bebbfd3884",
   "metadata": {
    "execution": {
     "iopub.execute_input": "2023-03-01T15:38:15.162699Z",
     "iopub.status.busy": "2023-03-01T15:38:15.162462Z",
     "iopub.status.idle": "2023-03-01T15:39:42.718004Z",
     "shell.execute_reply": "2023-03-01T15:39:42.716903Z",
     "shell.execute_reply.started": "2023-03-01T15:38:15.162674Z"
    },
    "tags": []
   },
   "outputs": [
    {
     "data": {
      "application/vnd.jupyter.widget-view+json": {
       "model_id": "1da1ac66601c46c389ef3e3cc8d0237d",
       "version_major": 2,
       "version_minor": 0
      },
      "text/plain": [
       "VBox()"
      ]
     },
     "metadata": {},
     "output_type": "display_data"
    },
    {
     "data": {
      "application/vnd.jupyter.widget-view+json": {
       "model_id": "",
       "version_major": 2,
       "version_minor": 0
      },
      "text/plain": [
       "FloatProgress(value=0.0, bar_style='info', description='Progress:', layout=Layout(height='25px', width='50%'),…"
      ]
     },
     "metadata": {},
     "output_type": "display_data"
    },
    {
     "name": "stdout",
     "output_type": "stream",
     "text": [
      "rddStoresCached: rddStores.type = MapPartitionsRDD[2] at flatMap at <console>:26\n",
      "avgProductSoldPerShop: (Int, Int) = (19666763,2484)\n",
      "res24: String = Average number of products sold per shop: 7917\n"
     ]
    }
   ],
   "source": [
    "/*In Media, quanti prodotti sono stati venduti per negozio?*/\n",
    "val rddStoresCached = rddStores.cache()\n",
    "val avgProductSoldPerShop = rddStoresCached.map(x => (x._1,1)).reduceByKey(_+_).aggregate((0,0))((a,v)=>(a._1+v._2, a._2+1),(a1,a2)=>(a1._1+a2._1,a1._2+a2._2))\n",
    "\"Average number of products sold per shop: \" + (avgProductSoldPerShop._1/avgProductSoldPerShop._2)"
   ]
  },
  {
   "cell_type": "code",
   "execution_count": 11,
   "id": "fdbe28f3-9c28-4b2c-b192-eae05fefbdf7",
   "metadata": {
    "execution": {
     "iopub.execute_input": "2023-03-01T15:39:42.723475Z",
     "iopub.status.busy": "2023-03-01T15:39:42.723075Z",
     "iopub.status.idle": "2023-03-01T15:41:04.264648Z",
     "shell.execute_reply": "2023-03-01T15:41:04.263720Z",
     "shell.execute_reply.started": "2023-03-01T15:39:42.723400Z"
    },
    "tags": []
   },
   "outputs": [
    {
     "data": {
      "application/vnd.jupyter.widget-view+json": {
       "model_id": "b11fd22b19fa44f6ab31d03e425ecf2b",
       "version_major": 2,
       "version_minor": 0
      },
      "text/plain": [
       "VBox()"
      ]
     },
     "metadata": {},
     "output_type": "display_data"
    },
    {
     "data": {
      "application/vnd.jupyter.widget-view+json": {
       "model_id": "",
       "version_major": 2,
       "version_minor": 0
      },
      "text/plain": [
       "FloatProgress(value=0.0, bar_style='info', description='Progress:', layout=Layout(height='25px', width='50%'),…"
      ]
     },
     "metadata": {},
     "output_type": "display_data"
    },
    {
     "name": "stdout",
     "output_type": "stream",
     "text": [
      "rddCountiresCached: rddCountries.type = MapPartitionsRDD[8] at flatMap at <console>:26\n",
      "avgLitersSoldPerCountry: (Double, Double) = (1.9666762E7,298.0)\n",
      "res27: String = Media di litri venduti per country: 65995.84563758389\n"
     ]
    }
   ],
   "source": [
    "/*In Media, quanti litri sono stati vednuti per stato?*/\n",
    "\n",
    "val rddCountiresCached = rddCountries.cache()\n",
    "val avgLitersSoldPerCountry = rddCountries.\n",
    "    map(x => (x._1,x._3)). /*(countryNumber,liters)*/\n",
    "    countByKey().\n",
    "    aggregate((0.0,0.0))((a,v)=>(a._1+v._2, a._2+1),(a1,a2)=>(a1._1+a2._1,a1._2+a2._2))\n",
    "\"Media di litri venduti per country: \" + (avgLitersSoldPerCountry._1/avgLitersSoldPerCountry._2)"
   ]
  },
  {
   "cell_type": "code",
   "execution_count": 12,
   "id": "71374b11-fd3e-489b-8fdc-3e1d04c97203",
   "metadata": {
    "execution": {
     "iopub.execute_input": "2023-03-01T15:41:04.266170Z",
     "iopub.status.busy": "2023-03-01T15:41:04.265912Z",
     "iopub.status.idle": "2023-03-01T15:42:07.749110Z",
     "shell.execute_reply": "2023-03-01T15:42:07.748257Z",
     "shell.execute_reply.started": "2023-03-01T15:41:04.266146Z"
    },
    "tags": []
   },
   "outputs": [
    {
     "data": {
      "application/vnd.jupyter.widget-view+json": {
       "model_id": "a523716e77ea433c97bb23fbca4344eb",
       "version_major": 2,
       "version_minor": 0
      },
      "text/plain": [
       "VBox()"
      ]
     },
     "metadata": {},
     "output_type": "display_data"
    },
    {
     "data": {
      "application/vnd.jupyter.widget-view+json": {
       "model_id": "",
       "version_major": 2,
       "version_minor": 0
      },
      "text/plain": [
       "FloatProgress(value=0.0, bar_style='info', description='Progress:', layout=Layout(height='25px', width='50%'),…"
      ]
     },
     "metadata": {},
     "output_type": "display_data"
    },
    {
     "name": "stdout",
     "output_type": "stream",
     "text": [
      "rddCategoriesCached: rddCategories.type = MapPartitionsRDD[14] at flatMap at <console>:26\n",
      "avgBottlesPerCategory: (Double, Double) = (1559988.0,100.0)\n",
      "res30: String = Media di bottiglie vendute per categoria: 15599.88\n"
     ]
    }
   ],
   "source": [
    "/*In Media, quante bottiglie sono state vednute per categoria?*/\n",
    "\n",
    "val rddCategoriesCached = rddCategories.cache()\n",
    "val avgBottlesPerCategory = rddCategories.\n",
    "    map(x => (x._1,x._3)).\n",
    "    countByKey().\n",
    "    aggregate((0.0,0.0))((a,v)=>(a._1+v._2, a._2+1),(a1,a2)=>(a1._1+a2._1,a1._2+a2._2))\n",
    "\"Media di bottiglie vendute per categoria: \" + (avgBottlesPerCategory._1/avgBottlesPerCategory._2)"
   ]
  },
  {
   "cell_type": "code",
   "execution_count": 13,
   "id": "c95e74d9-defd-44f0-a57a-2b2703ebe1eb",
   "metadata": {
    "execution": {
     "iopub.execute_input": "2023-03-01T15:42:07.750821Z",
     "iopub.status.busy": "2023-03-01T15:42:07.750471Z",
     "iopub.status.idle": "2023-03-01T15:43:35.295551Z",
     "shell.execute_reply": "2023-03-01T15:43:35.294839Z",
     "shell.execute_reply.started": "2023-03-01T15:42:07.750784Z"
    },
    "tags": []
   },
   "outputs": [
    {
     "data": {
      "application/vnd.jupyter.widget-view+json": {
       "model_id": "dff90d5d187046e581415cd597bd9baf",
       "version_major": 2,
       "version_minor": 0
      },
      "text/plain": [
       "VBox()"
      ]
     },
     "metadata": {},
     "output_type": "display_data"
    },
    {
     "data": {
      "application/vnd.jupyter.widget-view+json": {
       "model_id": "",
       "version_major": 2,
       "version_minor": 0
      },
      "text/plain": [
       "FloatProgress(value=0.0, bar_style='info', description='Progress:', layout=Layout(height='25px', width='50%'),…"
      ]
     },
     "metadata": {},
     "output_type": "display_data"
    },
    {
     "name": "stdout",
     "output_type": "stream",
     "text": [
      "Risultato cosi' composto: nomeItem, fatturato, numero di vendite \n",
      "\n",
      "rddItemsCached: rddItems.type = MapPartitionsRDD[5] at flatMap at <console>:26\n",
      "(Hawkeye Vodka,7275708.29,411211)\n",
      "(Black Velvet,5242031.529999999,220957)\n",
      "(Captain Morgan Spiced Rum,4018092.1699999985,188778)\n",
      "(Titos Handmade Vodka,3770229.4600000014,166741)\n",
      "(Barton Vodka,3219200.8399999994,112894)\n",
      "(Five O'clock Vodka,2997823.2799999984,226502)\n",
      "(Phillips Vodka,2366347.33,107766)\n",
      "(Jack Daniels Old #7 Black Lbl,2306382.9500000007,159353)\n",
      "(Admiral Nelson Spiced Rum,1944860.9900000014,177337)\n",
      "(Fireball Cinnamon Whiskey,1850195.199999996,122337)\n"
     ]
    }
   ],
   "source": [
    "/*items più venduti in termini di fatturato e unità*/\n",
    "println(\"Risultato cosi' composto: nomeItem, fatturato, numero di vendite \\n\")\n",
    "val rddItemsCached = rddItems.cache()\n",
    "rddItemsCached.\n",
    "        map(e => (e._2, (e._3, 1))).\n",
    "        reduceByKey((t1, t2) => (t1._1 + t2._1, t1._2 + t2._2)).\n",
    "        map(v => (v._1, v._2._1, v._2._2)).\n",
    "        sortBy(_._2, false).\n",
    "        collect().take(10).foreach(println(_))"
   ]
  },
  {
   "cell_type": "code",
   "execution_count": 9,
   "id": "c58c2440-dafe-4306-a354-aad3f19b81a6",
   "metadata": {
    "execution": {
     "iopub.execute_input": "2023-03-03T11:27:10.734788Z",
     "iopub.status.busy": "2023-03-03T11:27:10.734475Z",
     "iopub.status.idle": "2023-03-03T11:28:18.276379Z",
     "shell.execute_reply": "2023-03-03T11:28:18.275690Z",
     "shell.execute_reply.started": "2023-03-03T11:27:10.734763Z"
    },
    "tags": []
   },
   "outputs": [
    {
     "data": {
      "application/vnd.jupyter.widget-view+json": {
       "model_id": "52df39ae521f47368a19070377837c97",
       "version_major": 2,
       "version_minor": 0
      },
      "text/plain": [
       "VBox()"
      ]
     },
     "metadata": {},
     "output_type": "display_data"
    },
    {
     "data": {
      "application/vnd.jupyter.widget-view+json": {
       "model_id": "",
       "version_major": 2,
       "version_minor": 0
      },
      "text/plain": [
       "FloatProgress(value=0.0, bar_style='info', description='Progress:', layout=Layout(height='25px', width='50%'),…"
      ]
     },
     "metadata": {},
     "output_type": "display_data"
    },
    {
     "name": "stdout",
     "output_type": "stream",
     "text": [
      "Risultato cosi' composto: nomeCategor, fatturato, numero di vendite \n",
      "\n",
      "rddCategoriesCached: rddCategories.type = MapPartitionsRDD[14] at flatMap at <console>:26\n",
      "(American Vodkas,1.4152316429999966E7,140485)\n",
      "(Canadian Whiskies,1.389965760000001E7,103166)\n",
      "(VODKA 80 PROOF,9530538.619999986,109531)\n",
      "(Imported Brandies,8827292.330000015,30078)\n",
      "(Spiced Rum,7252489.699999989,49083)\n",
      "(SPICED RUM,7068700.709999999,44743)\n",
      "(Whiskey Liqueur,6887928.550000002,50702)\n",
      "(CANADIAN WHISKIES,6197296.109999994,47384)\n",
      "(TEQUILA,4861197.939999997,35800)\n",
      "(Straight Bourbon Whiskies,4779353.42,47715)\n"
     ]
    }
   ],
   "source": [
    "/*Categorie più vendute in termini di fatturato e unità*/\n",
    "println(\"Risultato cosi' composto: nomeCategor, fatturato, numero di vendite \\n\")\n",
    "val rddCategoriesCached = rddCategories.cache()\n",
    "rddCategoriesCached.\n",
    "        map(e => (e._2, (e._4, 1))).\n",
    "        reduceByKey((t1, t2) => (t1._1 + t2._1, t1._2 + t2._2)).\n",
    "        map(v => (v._1, v._2._1, v._2._2)).\n",
    "        sortBy(_._2, false).\n",
    "        collect().take(10).foreach(println(_))"
   ]
  },
  {
   "cell_type": "code",
   "execution_count": 11,
   "id": "ce1605c5-724b-4f96-bfb9-f614fc9a013b",
   "metadata": {
    "execution": {
     "iopub.execute_input": "2023-03-03T11:33:25.788683Z",
     "iopub.status.busy": "2023-03-03T11:33:25.788375Z",
     "iopub.status.idle": "2023-03-03T11:34:33.297569Z",
     "shell.execute_reply": "2023-03-03T11:34:33.296829Z",
     "shell.execute_reply.started": "2023-03-03T11:33:25.788659Z"
    },
    "tags": []
   },
   "outputs": [
    {
     "data": {
      "application/vnd.jupyter.widget-view+json": {
       "model_id": "871856036a204aed85e938fe0c475e6e",
       "version_major": 2,
       "version_minor": 0
      },
      "text/plain": [
       "VBox()"
      ]
     },
     "metadata": {},
     "output_type": "display_data"
    },
    {
     "data": {
      "application/vnd.jupyter.widget-view+json": {
       "model_id": "",
       "version_major": 2,
       "version_minor": 0
      },
      "text/plain": [
       "FloatProgress(value=0.0, bar_style='info', description='Progress:', layout=Layout(height='25px', width='50%'),…"
      ]
     },
     "metadata": {},
     "output_type": "display_data"
    },
    {
     "name": "stdout",
     "output_type": "stream",
     "text": [
      "rddItemsCached: rddItems.type = MapPartitionsRDD[5] at flatMap at <console>:26\n",
      "res66: org.apache.spark.rdd.RDD[(String, Double, Int)] = MapPartitionsRDD[125] at sortBy at <console>:29\n",
      "itemsClassification: org.apache.spark.rdd.RDD[(String, String)] = MapPartitionsRDD[128] at map at <console>:29\n",
      "revenueByCategory: Array[(Char, String, Double, Int)] = Array((b,Mid Tier,1795481.2000000014,201407), (h,Top Tier,1.476467419000033E7,1033752), (M,Low Tier,8189084.839999994,1729963), (W,Low Tier,7484470.299999987,1660244), (O,Mid Tier,3.1257047840003908E7,3167448), (G,Top Tier,1816253.629999969,180109), (v,Low Tier,4190338.6400000006,801962), (d,Low Tier,1.5083578329999989E7,2963354), (q,Top Tier,2153148.300000113,154716), (l,Mid Tier,9470410.019999977,728839), (L,Low Tier,9508378.559999932,2083313), (P,Mid Tier,1.696546511000002E7,1750418), (K,Mid Tier,1.5498019640000032E7,1586833), (I,Mid Tier,4.666476288000064E7,4785276), (f,Low Tier,118806.05999999994,34912), (C,Top Tier,1.7752091380000554E7,1091512), (m,Mid Tier,2.095606360999937E7,1990087), (x,Mid Tier,1239257.110000002,90377), (...\n"
     ]
    }
   ],
   "source": [
    "/*val bucketname = \"unibo-bigdata-project\"\n",
    "val path_categories_revenue = \"s3a://\"+bucketname+\"/risultati/satates_revenue\"*/\n",
    "\n",
    "val rddItemsCached = rddItems.cache()\n",
    "rddItemsCached.\n",
    "        map(e => (e._2, (e._3, 1))). //nameItems,(price,1)\n",
    "        reduceByKey((t1, t2) => (t1._1 + t2._1, t1._2 + t2._2)). //nameItem(fatturato,unitàVendute)\n",
    "        map(v => (v._1, v._2._1, v._2._2)). //nomeItem, fatturato, unitàVendute\n",
    "        sortBy(_._2, false)\n",
    "\n",
    "\n",
    "val itemsClassification = rddItemsCached.\n",
    "    map(e => (e._2, e._3)). // nomeItem, price\n",
    "    reduceByKey(_ + _).\n",
    "    map(e => (e._1, e._2 match {\n",
    "      case f if f >= 1000000 => \"Top Tier\"\n",
    "      case f if f < 1000000 && f >= 100000 => \"Mid Tier\"  \n",
    "      case _ => \"Low Tier\"\n",
    "      })) //nomeItem, Tier\n",
    "\n",
    "\n",
    "val revenueByCategory = rddItemsCached.\n",
    "    map(p => (p._2, (p._3, p._4))). // nomeItem, (price, categoryName)\n",
    "    join(itemsClassification). // nomeItem, ((price,categoryName), itemRank)\n",
    "    flatMap(p => p._2._1._2.map(x => ((x, p._2._2), p._2._1._1))). // (categoryName, itemRank), price\n",
    "    aggregateByKey((0.0,0))((agg, v) => (agg._1 + v, agg._2 + 1),((agg1,agg2) => (agg1._1 + agg2._1, agg1._2 + agg2._2))). // (categoryName, itemRank), price, count\n",
    "    map(x => (x._1._1, x._1._2, x._2._1, x._2._2)). // categoryName, itemRank, revenue, count\n",
    "    collect()\n",
    "\n",
    "/*val revenueByCategoryDF = revenueByCategory.toDF()\n",
    "revenueByCategoryDF.coalesce(1).write.format(\"csv\").mode(SaveMode.Overwrite).save(path_categories_revenue)*/"
   ]
  },
  {
   "cell_type": "code",
   "execution_count": 8,
   "id": "3af5628e-a8a9-4be3-be2b-03a0453361af",
   "metadata": {
    "execution": {
     "iopub.execute_input": "2023-03-09T15:23:39.064864Z",
     "iopub.status.busy": "2023-03-09T15:23:39.064561Z",
     "iopub.status.idle": "2023-03-09T15:23:56.412030Z",
     "shell.execute_reply": "2023-03-09T15:23:56.411291Z",
     "shell.execute_reply.started": "2023-03-09T15:23:39.064840Z"
    },
    "tags": []
   },
   "outputs": [
    {
     "data": {
      "application/vnd.jupyter.widget-view+json": {
       "model_id": "f90743e42ff64ebdb75c63701ce0b6c7",
       "version_major": 2,
       "version_minor": 0
      },
      "text/plain": [
       "VBox()"
      ]
     },
     "metadata": {},
     "output_type": "display_data"
    },
    {
     "data": {
      "application/vnd.jupyter.widget-view+json": {
       "model_id": "",
       "version_major": 2,
       "version_minor": 0
      },
      "text/plain": [
       "FloatProgress(value=0.0, bar_style='info', description='Progress:', layout=Layout(height='25px', width='50%'),…"
      ]
     },
     "metadata": {},
     "output_type": "display_data"
    },
    {
     "name": "stdout",
     "output_type": "stream",
     "text": [
      "bucketname: String = unibo-bigdata-project\n",
      "path_itemsForYear_revenue: String = s3a://unibo-bigdata-project/risultati/satates_revenue\n",
      "rddItemsCached: rddItems.type = MapPartitionsRDD[5] at flatMap at <console>:26\n",
      "avgPricesByYear: org.apache.spark.rdd.RDD[(String, Double, Int)] = MapPartitionsRDD[75] at map at <console>:28\n",
      "avgPricesByProduct: org.apache.spark.rdd.RDD[(String, Iterable[(Double, Int)])] = MapPartitionsRDD[78] at mapValues at <console>:28\n",
      "avgPricesByProductAndYear: org.apache.spark.rdd.RDD[((String, Int), Double)] = CoalescedRDD[80] at coalesce at <console>:30\n",
      "df: org.apache.spark.sql.DataFrame = [_1: string, _2: int ... 1 more field]\n"
     ]
    }
   ],
   "source": [
    "val bucketname = \"unibo-bigdata-project\"\n",
    "val path_itemsForYear_revenue = \"s3a://\"+bucketname+\"/risultati/satates_revenue\"\n",
    "\n",
    "// calcolare il prezzo medio di ogni prodotto per ogni anno\n",
    "val rddItemsCached = rddItems.cache()\n",
    "\n",
    "val avgPricesByYear = rddItems.map(item => ((item._2, item._5), (item._3, 1))).//(itemName,anno), price\n",
    "  reduceByKey((accum, value) => (accum._1 + value._1, accum._2 + value._2)).\n",
    "  mapValues(sumCount => sumCount._1 / sumCount._2).\n",
    "  map(item => (item._1._1, item._2, item._1._2))\n",
    "  //collect() //(itemName,avg,year)\n",
    "\n",
    "// Raggruppo per nomeItem\n",
    "val avgPricesByProduct = avgPricesByYear.groupBy(_._1).\n",
    "  mapValues(_.map(item => (item._2, item._3)))//.collect()\n",
    "\n",
    "//flatmap con chiave prodotto e anno\n",
    "val avgPricesByProductAndYear = avgPricesByProduct.flatMap { case (itemName, yearPrices) =>\n",
    "  yearPrices.map { case (avgPrice, year) =>\n",
    "    ((itemName, year), avgPrice)\n",
    "  }\n",
    "}.coalesce(1)\n",
    "\n",
    "// Conversione in DataFrame con stringa\n",
    "val df = avgPricesByProductAndYear.map{case ((itemName, year), avgPrice) => (itemName,year,avgPrice)}.toDF()\n",
    "\n",
    "// Salvataggio su file CSV\n",
    "df.write.format(\"csv\").mode(SaveMode.Overwrite).save(path_itemsForYear_revenue)"
   ]
  },
  {
   "cell_type": "code",
   "execution_count": 7,
   "id": "bfc52b0b-b04c-4f75-838d-b25e89d4b5aa",
   "metadata": {
    "execution": {
     "iopub.execute_input": "2023-03-09T15:18:30.625300Z",
     "iopub.status.busy": "2023-03-09T15:18:30.624996Z",
     "iopub.status.idle": "2023-03-09T15:18:47.974560Z",
     "shell.execute_reply": "2023-03-09T15:18:47.973703Z",
     "shell.execute_reply.started": "2023-03-09T15:18:30.625275Z"
    },
    "tags": []
   },
   "outputs": [
    {
     "data": {
      "application/vnd.jupyter.widget-view+json": {
       "model_id": "dc24cc5477694c7cbcec7849dac8f3ed",
       "version_major": 2,
       "version_minor": 0
      },
      "text/plain": [
       "VBox()"
      ]
     },
     "metadata": {},
     "output_type": "display_data"
    },
    {
     "data": {
      "application/vnd.jupyter.widget-view+json": {
       "model_id": "",
       "version_major": 2,
       "version_minor": 0
      },
      "text/plain": [
       "FloatProgress(value=0.0, bar_style='info', description='Progress:', layout=Layout(height='25px', width='50%'),…"
      ]
     },
     "metadata": {},
     "output_type": "display_data"
    },
    {
     "name": "stdout",
     "output_type": "stream",
     "text": [
      "bucketname: String = unibo-bigdata-project\n",
      "path_category_revenue: String = s3a://unibo-bigdata-project/risultati/categories_revenue\n",
      "rddItemsCached: rddItems.type = MapPartitionsRDD[5] at flatMap at <console>:26\n",
      "v: org.apache.spark.rdd.RDD[(String, String, Double, Int)] = MapPartitionsRDD[58] at sortBy at <console>:29\n",
      "itemsClassification: org.apache.spark.rdd.RDD[(String, String)] = MapPartitionsRDD[61] at map at <console>:29\n",
      "revenueByCategory: org.apache.spark.rdd.RDD[(String, String, Double, Int)] = CoalescedRDD[69] at coalesce at <console>:33\n"
     ]
    }
   ],
   "source": [
    "val bucketname = \"unibo-bigdata-project\"\n",
    "val path_category_revenue = \"s3a://\"+bucketname+\"/risultati/categories_revenue\"\n",
    "\n",
    "val rddItemsCached = rddItems.cache()\n",
    "val v = rddItemsCached.\n",
    "        map(e => ((e._2, e._4), (e._3, 1))). //(nameItem, categoryName),(price,1)\n",
    "        reduceByKey((t1, t2) => (t1._1 + t2._1, t1._2 + t2._2)). //(nameItem,categoryName),(fatturato,unitàVendute)\n",
    "        map(v => (v._1._1, v._1._2, v._2._1, v._2._2)). //nomeItem, categoryName, fatturato, unitàVendute\n",
    "        sortBy(_._3, false)\n",
    "\n",
    "\n",
    "val itemsClassification = v.\n",
    "    map(e => (e._1, e._3)). // nomeItem, fatturato\n",
    "    reduceByKey(_ + _).\n",
    "    map(e => (e._1, e._2 match {\n",
    "      case f if f >= 1000000 => \"Top Tier\"\n",
    "      case f if f < 1000000 && f >= 100000 => \"Mid Tier\"  \n",
    "      case _ => \"Low Tier\"\n",
    "      })) //nomeItem, Tier\n",
    "\n",
    "\n",
    "val revenueByCategory = v.\n",
    "    map(p => (p._1, (p._3, p._2))). // nomeItem, (fatturato, categoryName)\n",
    "    join(itemsClassification). // nomeItem, ((fatturato,categoryName), Tier)\n",
    "    map(p => ((p._2._1._2, p._2._2), p._2._1._1)). // (categoryName, Tier), fatturato\n",
    "    aggregateByKey((0.0,0))((agg, v) => (agg._1 + v, agg._2 + 1),((agg1,agg2) => (agg1._1 + agg2._1, agg1._2 + agg2._2))). // (categoryName, Tier), price, count\n",
    "    map(x => (x._1._1, x._1._2, x._2._1, x._2._2)).// categoryName, Tier, revenue, count\n",
    "    coalesce(1)\n",
    "\n",
    "revenueByCategory.map(x => x.productIterator.mkString(\",\")).saveAsTextFile(path_category_revenue)"
   ]
  }
 ],
 "metadata": {
  "kernelspec": {
   "display_name": "Spark",
   "language": "scala",
   "name": "sparkkernel"
  },
  "language_info": {
   "codemirror_mode": "text/x-scala",
   "file_extension": ".sc",
   "mimetype": "text/x-scala",
   "name": "scala",
   "pygments_lexer": "scala"
  }
 },
 "nbformat": 4,
 "nbformat_minor": 5
}
