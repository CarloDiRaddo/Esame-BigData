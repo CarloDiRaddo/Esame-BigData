{
  "metadata": {
    "kernelspec": {
      "display_name": "Spark",
      "language": "scala",
      "name": "sparkkernel"
    },
    "language_info": {
      "codemirror_mode": "text/x-scala",
      "file_extension": ".sc",
      "mimetype": "text/x-scala",
      "name": "scala",
      "pygments_lexer": "scala"
    }
  },
  "nbformat_minor": 5,
  "nbformat": 4,
  "cells": [
    {
      "cell_type": "markdown",
      "source": "# Progetto Big Data - Big Sales Data",
      "metadata": {},
      "id": "b1e2cd57-75ea-4b76-8560-901b15243c57"
    },
    {
      "cell_type": "markdown",
      "source": "## Il dataset\n\nIl [dataset analizzato \"Liquor Sales.csv\"](https://www.kaggle.com/datasets/pigment/big-sales-data), contiene informazioni sulle vendite di bevande alcoliche effettuate da diversi negozi in America nel periodo che va da Gennaio 2012 a Settembre 2020. La grandezza del dataset è di 4.77 GB e contiene molte informazioni sulle transazioni di vendita, tra cui il tipo di bevanda alcolica venduta, il prezzo di vendita, la quantità venduta, la data e l'ora della transazione e il negozio in cui la transazione è stata effettuata.\n\nIl dataset può essere utilizzato per analizzare il mercato delle bevande alcoliche in America e per comprendere le tendenze di vendita nel corso del tempo. Ad esempio, si può valutare la popolarità di diversi tipi di bevande alcoliche in base alla loro quota di mercato, oppure si può esaminare come le vendite di alcune bevande alcoliche sono influenzate da eventi stagionali come le festività.\n\nInoltre, il dataset può essere utilizzato per fare previsioni sulle vendite future di bevande alcoliche o sul loro prezzo medio, ad esempio utilizzando tecniche di analisi delle serie temporali per identificare tendenze e stagionalità.\n\nIn generale, il dataset \"Liquor Sales.csv\" è una risorsa preziosa per coloro che vogliono studiare il mercato delle bevande alcoliche in America o per coloro che vogliono effettuare analisi di mercato e previsioni.\n",
      "metadata": {},
      "id": "9d3e732d-973a-4e97-9023-254b61d828ec"
    },
    {
      "cell_type": "markdown",
      "source": "## Obbiettivi dell'analisi\n\nL'obiettivo del progetto è analizzare il dataset al fine di rilevare informazioni utili sui dati raccolti. Di seguito vengono riportate le query esplorative che ci siamo posti e a cui si è cercato di dare una risposta analizzando il dataset:\n\n- Capire che il numero degli stores number e degli stores name è diverso (es: negozio1(nome1,nome2,nome3));\n- Capire che il numero degli items number e degli items name è diverso;\n- Capire che il numero degli country number e degli country name è diverso;\n- Capire che il numero degli city number e degli city name è diverso;\n- Capire che il numero degli category number e degli category name è diverso;\n- Capire che il numero degli vendor number e degli vendor name è diverso;\n\nSuccessivamente abbiamo svolto delle query più complesse:\n\n- In Media, quanti prodotti sono stati venduti per negozio?;\n- In Media, quanti litri sono stati venduti per stato?;\n- In Media, quante bottiglie sono state vendute per categoria?;\n- Items più venduti in termini di fatturato e unità;\n- Categorie più vendute in termini di fatturato e unità;\n\nPer poi terminare con i due job:\n\n- (job1) Svolgere un’analisi sul prezzo medio di ogni singolo prodotto per ogni anno;\n- (job2) Svolgere una classificazione dei prodotti in base al fatturato e calcolare il fatturato totale per ogni categoria e fascia di prezzo.",
      "metadata": {},
      "id": "fbd2de67-8137-4ef5-a45c-2b29cd8798df"
    },
    {
      "cell_type": "markdown",
      "source": "## Configurazione del cluster\n\nConfigurazione del cluster di default, utilizzata anche durante i laboratori. Esso è composto da 1 master e 2 nodi slave, entrambi con 4 core e 16 GB di RAM. In questo caso si è scelto di mantenere gli stessi setting per il cluster in quanto ottimali per quanto visto in teoria:\n\n- 1 master\n- 2 executor con 4 core ciascuno\n- 16GB di memoria per executor\n",
      "metadata": {},
      "id": "f5003aad-8053-48cb-ad9c-f8091946239e"
    },
    {
      "cell_type": "markdown",
      "source": "## Preprocessing dei dati",
      "metadata": {},
      "id": "d04b60ae-1054-419c-b21d-04c606cdc99a"
    },
    {
      "cell_type": "code",
      "source": "val bucketname = \"unibo-bigdata-project\"\nval pathSales = \"s3a://\"+bucketname+\"/datasets/Liquor_Sales.csv\"\n\nsc.applicationId\n\n\"SPARK UI: Enable forwarding of port 20888 and connect to http://localhost:20888/proxy/\" + sc.applicationId + \"/\"",
      "metadata": {
        "execution": {
          "iopub.execute_input": "2023-03-09T15:09:00.128683Z",
          "iopub.status.busy": "2023-03-09T15:09:00.128330Z",
          "iopub.status.idle": "2023-03-09T15:09:40.850849Z",
          "shell.execute_reply": "2023-03-09T15:09:40.850134Z",
          "shell.execute_reply.started": "2023-03-09T15:09:00.128653Z"
        },
        "tags": []
      },
      "execution_count": 1,
      "outputs": [
        {
          "output_type": "display_data",
          "data": {
            "application/vnd.jupyter.widget-view+json": {
              "model_id": "a814dd3cdac647f5bed4aad80f16146c",
              "version_major": 2,
              "version_minor": 0
            },
            "text/plain": [
              "VBox()"
            ]
          },
          "metadata": {}
        },
        {
          "name": "stdout",
          "output_type": "stream",
          "text": "Starting Spark application\n"
        },
        {
          "output_type": "display_data",
          "data": {
            "text/html": [
              "<table>\n",
              "<tr><th>ID</th><th>YARN Application ID</th><th>Kind</th><th>State</th><th>Spark UI</th><th>Driver log</th><th>User</th><th>Current session?</th></tr><tr><td>0</td><td>application_1678372684627_0001</td><td>spark</td><td>idle</td><td><a target=\"_blank\" href=\"http://ip-172-31-82-131.ec2.internal:20888/proxy/application_1678372684627_0001/\" class=\"emr-proxy-link\" emr-resource=\"j-1R1K02LH538LK\n",
              "\" application-id=\"application_1678372684627_0001\">Link</a></td><td><a target=\"_blank\" href=\"http://ip-172-31-90-1.ec2.internal:8042/node/containerlogs/container_1678372684627_0001_01_000001/livy\" >Link</a></td><td>None</td><td>✔</td></tr></table>"
            ],
            "text/plain": [
              "<IPython.core.display.HTML object>"
            ]
          },
          "metadata": {}
        },
        {
          "output_type": "display_data",
          "data": {
            "application/vnd.jupyter.widget-view+json": {
              "model_id": "",
              "version_major": 2,
              "version_minor": 0
            },
            "text/plain": [
              "FloatProgress(value=0.0, bar_style='info', description='Progress:', layout=Layout(height='25px', width='50%'),…"
            ]
          },
          "metadata": {}
        },
        {
          "name": "stdout",
          "output_type": "stream",
          "text": "SparkSession available as 'spark'.\n"
        },
        {
          "output_type": "display_data",
          "data": {
            "application/vnd.jupyter.widget-view+json": {
              "model_id": "",
              "version_major": 2,
              "version_minor": 0
            },
            "text/plain": [
              "FloatProgress(value=0.0, bar_style='info', description='Progress:', layout=Layout(height='25px', width='50%'),…"
            ]
          },
          "metadata": {}
        },
        {
          "name": "stdout",
          "output_type": "stream",
          "text": "bucketname: String = unibo-bigdata-project\n\npathSales: String = s3a://unibo-bigdata-project/datasets/Liquor_Sales.csv\n\nres3: String = application_1678372684627_0001\n\nres5: String = SPARK UI: Enable forwarding of port 20888 and connect to http://localhost:20888/proxy/application_1678372684627_0001/\n"
        }
      ],
      "id": "441b0add-20b4-4ec1-9b2d-f8ae066f9e31"
    },
    {
      "cell_type": "code",
      "source": "import org.apache.spark.sql.SaveMode\n\nobject LiquorSalesParser {\n    \n  /** Function to parse stores records\n   *\n   *  @param line line that has to be parsed\n   *  @return tuple containing storeNumber, storeName,, productsID none in case of input errors\n   */\n    \n  def parseStores(line: String) : Option[(Long, String, String)] = {\n    try {\n      val input = line.split(',')\n      Some(input(2).trim.toLong, input(3),  input(16))\n    } catch {\n      case _: Exception => None\n    }\n  }  \n    \n    \n  /** Function to parse items (products) records\n   *\n   *  @param line line that has to be parsed\n   *  @return tuple containing itemNumber, itemName, Sales($), categoryName none in case of input errors\n   */\n    \n    def parseItems(line: String) : Option[(Long, String, Double, String, Int)] = {\n      try {\n        val input = line.split(',')\n        val date = input(1)\n        val year = date.split(\"/\").last.toInt\n        Some(input(14).trim.toLong, input(15), input(22).trim.toDouble, input(11), year)\n      } catch {\n        case _: Exception => None\n      }\n    } \n\n\n/** Function to parse country records\n   *\n   *  @param line line that has to be parsed\n   *  @return tuple containing countryNumber, countryName, VolumeSold(L), Sales($), date\n   */\n    \n  def parseCountries(line: String) : Option[(String, String, Double, Double, String)] = {\n    try {\n      val input = line.split(',')\n      Some(input(9), input(10), input(23).trim.toDouble, input(22).trim.toDouble, input(2))\n    } catch {\n      case _: Exception => None\n    }\n  }  \n    \n    \n/** Function to parse city records\n   *\n   *  @param line line that has to be parsed\n   *  @return tuple containing zipCode, cityName\n   */\n    \n  def parseCities(line: String) : Option[(String, Long)] = {\n    try {\n      val input = line.split(',')\n      Some(input(6), input(7).trim.toLong)\n    } catch {\n      case _: Exception => None\n    }\n  }\n    \n    \n/** Function to parse categories records\n   *\n   *  @param line line that has to be parsed\n   *  @return tuple containing categoryNumber, categoryName, bottleSold,  Sales($)\n   */\n    \n  def parseCategories(line: String) : Option[(Long, String, Long, Double)] = {\n    try {\n      val input = line.split(',')\n      Some(input(11).trim.toLong, input(12), input(21).trim.toLong, input(22).trim.toDouble)\n    } catch {\n      case _: Exception => None\n    }\n  }\n    \n    \n/** Function to parse vendors records\n   *\n   *  @param line line that has to be parsed\n   *  @return tuple containing vendorNumber, vendorName\n   */\n    \n  def parseVendors(line: String) : Option[( Long, String)] = {\n    try {\n      val input = line.split(',')\n      Some(input(13).trim.toLong, input(14))\n    } catch {\n      case _: Exception => None\n    }\n  }    \n}",
      "metadata": {
        "execution": {
          "iopub.execute_input": "2023-03-09T15:12:06.982881Z",
          "iopub.status.busy": "2023-03-09T15:12:06.982579Z",
          "iopub.status.idle": "2023-03-09T15:12:09.308779Z",
          "shell.execute_reply": "2023-03-09T15:12:09.308008Z",
          "shell.execute_reply.started": "2023-03-09T15:12:06.982854Z"
        },
        "tags": []
      },
      "execution_count": 2,
      "outputs": [
        {
          "output_type": "display_data",
          "data": {
            "application/vnd.jupyter.widget-view+json": {
              "model_id": "3ef6e2b1ebca4d2fbe45d3489cb064e4",
              "version_major": 2,
              "version_minor": 0
            },
            "text/plain": [
              "VBox()"
            ]
          },
          "metadata": {}
        },
        {
          "output_type": "display_data",
          "data": {
            "application/vnd.jupyter.widget-view+json": {
              "model_id": "",
              "version_major": 2,
              "version_minor": 0
            },
            "text/plain": [
              "FloatProgress(value=0.0, bar_style='info', description='Progress:', layout=Layout(height='25px', width='50%'),…"
            ]
          },
          "metadata": {}
        },
        {
          "name": "stdout",
          "output_type": "stream",
          "text": "import org.apache.spark.sql.SaveMode\n\ndefined object LiquorSalesParser\n"
        }
      ],
      "id": "22700f39-9960-4aa2-a71b-383e2927ff67"
    },
    {
      "cell_type": "code",
      "source": "val rddStores = sc.textFile(pathSales).flatMap(LiquorSalesParser.parseStores)\nval rddItems = sc.textFile(pathSales).flatMap(LiquorSalesParser.parseItems)\nval rddCountries = sc.textFile(pathSales).flatMap(LiquorSalesParser.parseCountries)\nval rddCities = sc.textFile(pathSales).flatMap(LiquorSalesParser.parseCities)\nval rddCategories = sc.textFile(pathSales).flatMap(LiquorSalesParser.parseCategories)\nval rddVendors = sc.textFile(pathSales).flatMap(LiquorSalesParser.parseVendors)",
      "metadata": {
        "execution": {
          "iopub.execute_input": "2023-03-09T15:12:15.798655Z",
          "iopub.status.busy": "2023-03-09T15:12:15.798348Z",
          "iopub.status.idle": "2023-03-09T15:12:19.107753Z",
          "shell.execute_reply": "2023-03-09T15:12:19.106722Z",
          "shell.execute_reply.started": "2023-03-09T15:12:15.798631Z"
        },
        "tags": []
      },
      "execution_count": 3,
      "outputs": [
        {
          "output_type": "display_data",
          "data": {
            "application/vnd.jupyter.widget-view+json": {
              "model_id": "7617004236b74af4827ef9506b551082",
              "version_major": 2,
              "version_minor": 0
            },
            "text/plain": [
              "VBox()"
            ]
          },
          "metadata": {}
        },
        {
          "output_type": "display_data",
          "data": {
            "application/vnd.jupyter.widget-view+json": {
              "model_id": "",
              "version_major": 2,
              "version_minor": 0
            },
            "text/plain": [
              "FloatProgress(value=0.0, bar_style='info', description='Progress:', layout=Layout(height='25px', width='50%'),…"
            ]
          },
          "metadata": {}
        },
        {
          "name": "stdout",
          "output_type": "stream",
          "text": "rddStores: org.apache.spark.rdd.RDD[(Long, String, String)] = MapPartitionsRDD[2] at flatMap at <console>:26\n\nrddItems: org.apache.spark.rdd.RDD[(Long, String, Double, String, Int)] = MapPartitionsRDD[5] at flatMap at <console>:26\n\nrddCountries: org.apache.spark.rdd.RDD[(String, String, Double, Double, String)] = MapPartitionsRDD[8] at flatMap at <console>:26\n\nrddCities: org.apache.spark.rdd.RDD[(String, Long)] = MapPartitionsRDD[11] at flatMap at <console>:26\n\nrddCategories: org.apache.spark.rdd.RDD[(Long, String, Long, Double)] = MapPartitionsRDD[14] at flatMap at <console>:26\n\nrddVendors: org.apache.spark.rdd.RDD[(Long, String)] = MapPartitionsRDD[17] at flatMap at <console>:26\n"
        }
      ],
      "id": "776efe4c-6080-41d1-bfce-dafbf4d74a26"
    },
    {
      "cell_type": "markdown",
      "source": "## Dataset exploration",
      "metadata": {},
      "id": "f8ac7ef1-c399-4368-8b9c-621ee350222f"
    },
    {
      "cell_type": "code",
      "source": "val rddStoresCached = rddStores.cache()\n\"Number of Stores group by their name: \" + rddStoresCached.map(x => (x._2)).distinct().count()\n\"Number of Stores group by their code: \" + rddStoresCached.map(x => (x._1)).distinct().count()",
      "metadata": {
        "execution": {
          "iopub.execute_input": "2023-03-01T15:29:33.756976Z",
          "iopub.status.busy": "2023-03-01T15:29:33.756309Z",
          "iopub.status.idle": "2023-03-01T15:31:17.427164Z",
          "shell.execute_reply": "2023-03-01T15:31:17.426298Z",
          "shell.execute_reply.started": "2023-03-01T15:29:33.756935Z"
        },
        "tags": []
      },
      "execution_count": 4,
      "outputs": [
        {
          "output_type": "display_data",
          "data": {
            "application/vnd.jupyter.widget-view+json": {
              "model_id": "ee153b303e2541649d0af4831277276f",
              "version_major": 2,
              "version_minor": 0
            },
            "text/plain": [
              "VBox()"
            ]
          },
          "metadata": {}
        },
        {
          "output_type": "display_data",
          "data": {
            "application/vnd.jupyter.widget-view+json": {
              "model_id": "",
              "version_major": 2,
              "version_minor": 0
            },
            "text/plain": [
              "FloatProgress(value=0.0, bar_style='info', description='Progress:', layout=Layout(height='25px', width='50%'),…"
            ]
          },
          "metadata": {}
        },
        {
          "name": "stdout",
          "output_type": "stream",
          "text": "rddStoresCached: rddStores.type = MapPartitionsRDD[2] at flatMap at <console>:26\n\nres9: String = Number of Stores group by their name: 2632\n\nres10: String = Number of Stores group by their code: 2484\n"
        }
      ],
      "id": "5bf7f6c8-29f2-4f6e-91d4-2e2b416e0f52"
    },
    {
      "cell_type": "code",
      "source": "val rddItemsCached = rddItems.cache()\n\"Number of Items group by their name: \" + rddItemsCached.map(x => (x._2)).distinct().count()\n\"Number of Items group by their code: \" + rddItemsCached.map(x => (x._1)).distinct().count()",
      "metadata": {
        "execution": {
          "iopub.execute_input": "2023-03-01T15:31:17.429741Z",
          "iopub.status.busy": "2023-03-01T15:31:17.429155Z",
          "iopub.status.idle": "2023-03-01T15:33:11.086930Z",
          "shell.execute_reply": "2023-03-01T15:33:11.086072Z",
          "shell.execute_reply.started": "2023-03-01T15:31:17.429703Z"
        },
        "tags": []
      },
      "execution_count": 5,
      "outputs": [
        {
          "output_type": "display_data",
          "data": {
            "application/vnd.jupyter.widget-view+json": {
              "model_id": "029833d59b6d46468e2b1bb986d2e7b1",
              "version_major": 2,
              "version_minor": 0
            },
            "text/plain": [
              "VBox()"
            ]
          },
          "metadata": {}
        },
        {
          "output_type": "display_data",
          "data": {
            "application/vnd.jupyter.widget-view+json": {
              "model_id": "",
              "version_major": 2,
              "version_minor": 0
            },
            "text/plain": [
              "FloatProgress(value=0.0, bar_style='info', description='Progress:', layout=Layout(height='25px', width='50%'),…"
            ]
          },
          "metadata": {}
        },
        {
          "name": "stdout",
          "output_type": "stream",
          "text": "rddItemsCached: rddItems.type = MapPartitionsRDD[5] at flatMap at <console>:26\n\nres13: String = Number of Items group by their name: 7834\n\nres14: String = Number of Items group by their code: 8322\n"
        }
      ],
      "id": "18667c64-9252-4419-93d4-c913946fab5b"
    },
    {
      "cell_type": "code",
      "source": "val rddCountriesCached = rddCountries.cache()\n\"Number of countries group by their name: \" + rddCountriesCached.map(x => (x._2)).distinct().count()\n\"Number of countries group by their code: \" + rddCountriesCached.map(x => (x._1)).distinct().count()",
      "metadata": {
        "execution": {
          "iopub.execute_input": "2023-03-01T15:33:11.088474Z",
          "iopub.status.busy": "2023-03-01T15:33:11.088211Z",
          "iopub.status.idle": "2023-03-01T15:34:52.693600Z",
          "shell.execute_reply": "2023-03-01T15:34:52.692842Z",
          "shell.execute_reply.started": "2023-03-01T15:33:11.088449Z"
        },
        "tags": []
      },
      "execution_count": 6,
      "outputs": [
        {
          "output_type": "display_data",
          "data": {
            "application/vnd.jupyter.widget-view+json": {
              "model_id": "522a31247a0b442989ad4bcf503030a4",
              "version_major": 2,
              "version_minor": 0
            },
            "text/plain": [
              "VBox()"
            ]
          },
          "metadata": {}
        },
        {
          "output_type": "display_data",
          "data": {
            "application/vnd.jupyter.widget-view+json": {
              "model_id": "",
              "version_major": 2,
              "version_minor": 0
            },
            "text/plain": [
              "FloatProgress(value=0.0, bar_style='info', description='Progress:', layout=Layout(height='25px', width='50%'),…"
            ]
          },
          "metadata": {}
        },
        {
          "name": "stdout",
          "output_type": "stream",
          "text": "rddCountriesCached: rddCountries.type = MapPartitionsRDD[8] at flatMap at <console>:26\n\nres15: String = Number of countries group by their name: 277\n\nres16: String = Number of countries group by their code: 298\n"
        }
      ],
      "id": "b9d8c38e-13f0-4e66-880b-3fa52ca0672f"
    },
    {
      "cell_type": "code",
      "source": "val rddCitiesCached = rddCities.cache()\n\"Number of cities group by their name: \" + rddCitiesCached.map(x => (x._2)).distinct().count()\n\"Number of cities group by their code: \" + rddCitiesCached.map(x => (x._1)).distinct().count()",
      "metadata": {
        "execution": {
          "iopub.execute_input": "2023-03-01T15:34:52.695314Z",
          "iopub.status.busy": "2023-03-01T15:34:52.694972Z",
          "iopub.status.idle": "2023-03-01T15:36:08.205885Z",
          "shell.execute_reply": "2023-03-01T15:36:08.204871Z",
          "shell.execute_reply.started": "2023-03-01T15:34:52.695277Z"
        }
      },
      "execution_count": 7,
      "outputs": [
        {
          "output_type": "display_data",
          "data": {
            "application/vnd.jupyter.widget-view+json": {
              "model_id": "8029c5fbe9a94ee495fdbe93e398063c",
              "version_major": 2,
              "version_minor": 0
            },
            "text/plain": [
              "VBox()"
            ]
          },
          "metadata": {}
        },
        {
          "output_type": "display_data",
          "data": {
            "application/vnd.jupyter.widget-view+json": {
              "model_id": "",
              "version_major": 2,
              "version_minor": 0
            },
            "text/plain": [
              "FloatProgress(value=0.0, bar_style='info', description='Progress:', layout=Layout(height='25px', width='50%'),…"
            ]
          },
          "metadata": {}
        },
        {
          "name": "stdout",
          "output_type": "stream",
          "text": "rddCitiesCached: rddCities.type = MapPartitionsRDD[11] at flatMap at <console>:26\n\nres17: String = Number of cities group by their name: 218\n\nres18: String = Number of cities group by their code: 354\n"
        }
      ],
      "id": "9f29925e-82ee-404c-8155-6f282ebad5af"
    },
    {
      "cell_type": "code",
      "source": "val rddCategoriesCached = rddCategories.cache()\n\"Number of categories group by their name: \" + rddCategoriesCached.map(x => (x._2)).distinct().count()\n\"Number of categories group by their code: \" + rddCategoriesCached.map(x => (x._1)).distinct().count()",
      "metadata": {
        "execution": {
          "iopub.execute_input": "2023-03-01T15:36:08.207729Z",
          "iopub.status.busy": "2023-03-01T15:36:08.207393Z",
          "iopub.status.idle": "2023-03-01T15:37:11.683519Z",
          "shell.execute_reply": "2023-03-01T15:37:11.682762Z",
          "shell.execute_reply.started": "2023-03-01T15:36:08.207693Z"
        },
        "tags": []
      },
      "execution_count": 8,
      "outputs": [
        {
          "output_type": "display_data",
          "data": {
            "application/vnd.jupyter.widget-view+json": {
              "model_id": "bf8e36efc83b4caca7394a18bbb49ee1",
              "version_major": 2,
              "version_minor": 0
            },
            "text/plain": [
              "VBox()"
            ]
          },
          "metadata": {}
        },
        {
          "output_type": "display_data",
          "data": {
            "application/vnd.jupyter.widget-view+json": {
              "model_id": "",
              "version_major": 2,
              "version_minor": 0
            },
            "text/plain": [
              "FloatProgress(value=0.0, bar_style='info', description='Progress:', layout=Layout(height='25px', width='50%'),…"
            ]
          },
          "metadata": {}
        },
        {
          "name": "stdout",
          "output_type": "stream",
          "text": "rddCategoriesCached: rddCategories.type = MapPartitionsRDD[14] at flatMap at <console>:26\n\nres19: String = Number of categories group by their name: 128\n\nres20: String = Number of categories group by their code: 100\n"
        }
      ],
      "id": "d818c2d1-063e-48c4-8391-94b4795b050f"
    },
    {
      "cell_type": "code",
      "source": "val rddVendorsCached = rddVendors.cache()\n\"Number of vendors group by their name: \" + rddVendorsCached.map(x => (x._2)).distinct().count()\n\"Number of vendors group by their code: \" + rddVendorsCached.map(x => (x._1)).distinct().count()",
      "metadata": {
        "execution": {
          "iopub.execute_input": "2023-03-01T15:37:11.684904Z",
          "iopub.status.busy": "2023-03-01T15:37:11.684666Z",
          "iopub.status.idle": "2023-03-01T15:38:15.161489Z",
          "shell.execute_reply": "2023-03-01T15:38:15.160727Z",
          "shell.execute_reply.started": "2023-03-01T15:37:11.684880Z"
        },
        "tags": []
      },
      "execution_count": 9,
      "outputs": [
        {
          "output_type": "display_data",
          "data": {
            "application/vnd.jupyter.widget-view+json": {
              "model_id": "5c53760e006e4a8fa696b3035c14ffdc",
              "version_major": 2,
              "version_minor": 0
            },
            "text/plain": [
              "VBox()"
            ]
          },
          "metadata": {}
        },
        {
          "output_type": "display_data",
          "data": {
            "application/vnd.jupyter.widget-view+json": {
              "model_id": "",
              "version_major": 2,
              "version_minor": 0
            },
            "text/plain": [
              "FloatProgress(value=0.0, bar_style='info', description='Progress:', layout=Layout(height='25px', width='50%'),…"
            ]
          },
          "metadata": {}
        },
        {
          "name": "stdout",
          "output_type": "stream",
          "text": "rddVendorsCached: rddVendors.type = MapPartitionsRDD[17] at flatMap at <console>:26\n\nres21: String = Number of vendors group by their name: 377\n\nres22: String = Number of vendors group by their code: 262\n"
        }
      ],
      "id": "709aa431-c3fa-4cda-93cc-077792b96698"
    },
    {
      "cell_type": "markdown",
      "source": "## Query complesse\n\n### Media prodotti venduti per negozio\nViene calcolato il numero medio di prodotti venduti per negozio attraverso l'utilizzo di una serie di operazioni sui dati contenuti nel dataset. In particolare, vengono mappati gli identificativi dei negozi e per ognuno di essi, viene creato un valore pari a 1. Questi valori vengono poi sommati insieme utilizzando la funzione \"reduceByKey\". Con la funzione \"aggregate\" si ottiene una struttara del (numeroItemsVenduti, numeroNegozi). Infine basta dividere il numeroItemsVenduti per numeroNegozi ed ottenere così la media dei prodotti venduti per singolo negozio",
      "metadata": {},
      "id": "cbeab5ed-bf0e-49bb-aff9-d965501c0e55"
    },
    {
      "cell_type": "code",
      "source": "val rddStoresCached = rddStores.cache()\nval avgProductSoldPerShop = rddStoresCached.map(x => (x._1,1)).reduceByKey(_+_).aggregate((0,0))((a,v)=>(a._1+v._2, a._2+1),(a1,a2)=>(a1._1+a2._1,a1._2+a2._2))\n\"Average number of products sold per shop: \" + (avgProductSoldPerShop._1/avgProductSoldPerShop._2)",
      "metadata": {
        "execution": {
          "iopub.execute_input": "2023-03-01T15:38:15.162699Z",
          "iopub.status.busy": "2023-03-01T15:38:15.162462Z",
          "iopub.status.idle": "2023-03-01T15:39:42.718004Z",
          "shell.execute_reply": "2023-03-01T15:39:42.716903Z",
          "shell.execute_reply.started": "2023-03-01T15:38:15.162674Z"
        },
        "tags": []
      },
      "execution_count": 10,
      "outputs": [
        {
          "output_type": "display_data",
          "data": {
            "application/vnd.jupyter.widget-view+json": {
              "model_id": "1da1ac66601c46c389ef3e3cc8d0237d",
              "version_major": 2,
              "version_minor": 0
            },
            "text/plain": [
              "VBox()"
            ]
          },
          "metadata": {}
        },
        {
          "output_type": "display_data",
          "data": {
            "application/vnd.jupyter.widget-view+json": {
              "model_id": "",
              "version_major": 2,
              "version_minor": 0
            },
            "text/plain": [
              "FloatProgress(value=0.0, bar_style='info', description='Progress:', layout=Layout(height='25px', width='50%'),…"
            ]
          },
          "metadata": {}
        },
        {
          "name": "stdout",
          "output_type": "stream",
          "text": "rddStoresCached: rddStores.type = MapPartitionsRDD[2] at flatMap at <console>:26\n\navgProductSoldPerShop: (Int, Int) = (19666763,2484)\n\nres24: String = Average number of products sold per shop: 7917\n"
        }
      ],
      "id": "1bedfe54-7c38-4c61-ae5a-24bebbfd3884"
    },
    {
      "cell_type": "markdown",
      "source": "### Media litri venduti per stato\nInizialmente, la funzione \"map\" viene utilizzata per estrarre le informazioni relative al numero del paese e al numero di litri venduti. Successivamente, la funzione \"countByKey\" viene utilizzata per calcolare il numero di occorrenze di ogni paese nel dataset. Infine, la funzione \"aggregate\" viene utilizzata per calcolare la somma totale dei litri venduti e il numero totale di paesi presenti nel dataset. Infine, viene calcolata la media dei litri venduti per paese.",
      "metadata": {},
      "id": "85004706-cad3-4e5f-9869-fe0f95e4aa2e"
    },
    {
      "cell_type": "code",
      "source": "val rddCountiresCached = rddCountries.cache()\nval avgLitersSoldPerCountry = rddCountriesCached.\n    map(x => (x._1,x._3)). /*(countryNumber,liters)*/\n    countByKey().\n    aggregate((0.0,0.0))((a,v)=>(a._1+v._2, a._2+1),(a1,a2)=>(a1._1+a2._1,a1._2+a2._2))\n\"Media di litri venduti per country: \" + (avgLitersSoldPerCountry._1/avgLitersSoldPerCountry._2)",
      "metadata": {
        "execution": {
          "iopub.execute_input": "2023-03-01T15:39:42.723475Z",
          "iopub.status.busy": "2023-03-01T15:39:42.723075Z",
          "iopub.status.idle": "2023-03-01T15:41:04.264648Z",
          "shell.execute_reply": "2023-03-01T15:41:04.263720Z",
          "shell.execute_reply.started": "2023-03-01T15:39:42.723400Z"
        },
        "tags": []
      },
      "execution_count": 11,
      "outputs": [
        {
          "output_type": "display_data",
          "data": {
            "application/vnd.jupyter.widget-view+json": {
              "model_id": "b11fd22b19fa44f6ab31d03e425ecf2b",
              "version_major": 2,
              "version_minor": 0
            },
            "text/plain": [
              "VBox()"
            ]
          },
          "metadata": {}
        },
        {
          "output_type": "display_data",
          "data": {
            "application/vnd.jupyter.widget-view+json": {
              "model_id": "",
              "version_major": 2,
              "version_minor": 0
            },
            "text/plain": [
              "FloatProgress(value=0.0, bar_style='info', description='Progress:', layout=Layout(height='25px', width='50%'),…"
            ]
          },
          "metadata": {}
        },
        {
          "name": "stdout",
          "output_type": "stream",
          "text": "rddCountiresCached: rddCountries.type = MapPartitionsRDD[8] at flatMap at <console>:26\n\navgLitersSoldPerCountry: (Double, Double) = (1.9666762E7,298.0)\n\nres27: String = Media di litri venduti per country: 65995.84563758389\n"
        }
      ],
      "id": "fdbe28f3-9c28-4b2c-b192-eae05fefbdf7"
    },
    {
      "cell_type": "markdown",
      "source": "### Media bottiglie vendute per categoria\nInizialmente, la funzione \"map\" viene utilizzata per estrarre le informazioni relative al numero della categoria e al numero di bottiglie vendute. Successivamente, la funzione \"countByKey\" viene utilizzata per calcolare il numero di occorrenze di ogni categoria nel dataset. Infine, la funzione \"aggregate\" viene utilizzata per calcolare la somma totale delle bottiglie vendute e il numero totale di categorie presenti nel dataset. Infine, viene calcolata la media delle bottiglie vendute per categoria.",
      "metadata": {},
      "id": "1627a7de-2aa6-4a13-9392-a77a6b654fae"
    },
    {
      "cell_type": "code",
      "source": "val rddCategoriesCached = rddCategories.cache()\nval avgBottlesPerCategory = rddCategoriesCached.\n    map(x => (x._1,x._3)).\n    countByKey().\n    aggregate((0.0,0.0))((a,v)=>(a._1+v._2, a._2+1),(a1,a2)=>(a1._1+a2._1,a1._2+a2._2))\n\"Media di bottiglie vendute per categoria: \" + (avgBottlesPerCategory._1/avgBottlesPerCategory._2)",
      "metadata": {
        "execution": {
          "iopub.execute_input": "2023-03-01T15:41:04.266170Z",
          "iopub.status.busy": "2023-03-01T15:41:04.265912Z",
          "iopub.status.idle": "2023-03-01T15:42:07.749110Z",
          "shell.execute_reply": "2023-03-01T15:42:07.748257Z",
          "shell.execute_reply.started": "2023-03-01T15:41:04.266146Z"
        },
        "tags": []
      },
      "execution_count": 12,
      "outputs": [
        {
          "output_type": "display_data",
          "data": {
            "application/vnd.jupyter.widget-view+json": {
              "model_id": "a523716e77ea433c97bb23fbca4344eb",
              "version_major": 2,
              "version_minor": 0
            },
            "text/plain": [
              "VBox()"
            ]
          },
          "metadata": {}
        },
        {
          "output_type": "display_data",
          "data": {
            "application/vnd.jupyter.widget-view+json": {
              "model_id": "",
              "version_major": 2,
              "version_minor": 0
            },
            "text/plain": [
              "FloatProgress(value=0.0, bar_style='info', description='Progress:', layout=Layout(height='25px', width='50%'),…"
            ]
          },
          "metadata": {}
        },
        {
          "name": "stdout",
          "output_type": "stream",
          "text": "rddCategoriesCached: rddCategories.type = MapPartitionsRDD[14] at flatMap at <console>:26\n\navgBottlesPerCategory: (Double, Double) = (1559988.0,100.0)\n\nres30: String = Media di bottiglie vendute per categoria: 15599.88\n"
        }
      ],
      "id": "71374b11-fd3e-489b-8fdc-3e1d04c97203"
    },
    {
      "cell_type": "markdown",
      "source": "### Items più venduti in termini di fatturato e unità\nInizialmente, la funzione \"map\" viene utilizzata per estrarre le informazioni relative al nome dell'item, al suo fatturato e al numero di vendite. Successivamente, la funzione \"reduceByKey\" viene utilizzata per aggregare le informazioni raggruppando i valori con lo stesso nome dell'item.\nSuccessivamente, la funzione \"sortBy\" viene utilizzata per ordinare gli elementi in base al fatturato in modo decrescente.\nInfine, viene utilizzata la funzione \"collect\" per raccogliere i risultati del calcolo e la funzione \"take\" per selezionare solo i primi 10 risultati. Infine, viene utilizzata la funzione \"foreach\" per stampare a schermo le informazioni relative ai primi 10 elementi del RDD, ovvero il nome dell'item, il suo fatturato e il numero di vendite.",
      "metadata": {},
      "id": "77a576b8-59b9-463e-9eec-9dae4e1af804"
    },
    {
      "cell_type": "code",
      "source": "println(\"Risultato cosi' composto: nomeItem, fatturato, numero di vendite \\n\")\nval rddItemsCached = rddItems.cache()\nrddItemsCached.\n        map(e => (e._2, (e._3, 1))).\n        reduceByKey((t1, t2) => (t1._1 + t2._1, t1._2 + t2._2)).\n        map(v => (v._1, v._2._1, v._2._2)).\n        sortBy(_._2, false).\n        collect().take(10).foreach(println(_))",
      "metadata": {
        "execution": {
          "iopub.execute_input": "2023-03-01T15:42:07.750821Z",
          "iopub.status.busy": "2023-03-01T15:42:07.750471Z",
          "iopub.status.idle": "2023-03-01T15:43:35.295551Z",
          "shell.execute_reply": "2023-03-01T15:43:35.294839Z",
          "shell.execute_reply.started": "2023-03-01T15:42:07.750784Z"
        },
        "tags": []
      },
      "execution_count": 13,
      "outputs": [
        {
          "output_type": "display_data",
          "data": {
            "application/vnd.jupyter.widget-view+json": {
              "model_id": "dff90d5d187046e581415cd597bd9baf",
              "version_major": 2,
              "version_minor": 0
            },
            "text/plain": [
              "VBox()"
            ]
          },
          "metadata": {}
        },
        {
          "output_type": "display_data",
          "data": {
            "application/vnd.jupyter.widget-view+json": {
              "model_id": "",
              "version_major": 2,
              "version_minor": 0
            },
            "text/plain": [
              "FloatProgress(value=0.0, bar_style='info', description='Progress:', layout=Layout(height='25px', width='50%'),…"
            ]
          },
          "metadata": {}
        },
        {
          "name": "stdout",
          "output_type": "stream",
          "text": "Risultato cosi' composto: nomeItem, fatturato, numero di vendite \n\n\n\nrddItemsCached: rddItems.type = MapPartitionsRDD[5] at flatMap at <console>:26\n\n(Hawkeye Vodka,7275708.29,411211)\n\n(Black Velvet,5242031.529999999,220957)\n\n(Captain Morgan Spiced Rum,4018092.1699999985,188778)\n\n(Titos Handmade Vodka,3770229.4600000014,166741)\n\n(Barton Vodka,3219200.8399999994,112894)\n\n(Five O'clock Vodka,2997823.2799999984,226502)\n\n(Phillips Vodka,2366347.33,107766)\n\n(Jack Daniels Old #7 Black Lbl,2306382.9500000007,159353)\n\n(Admiral Nelson Spiced Rum,1944860.9900000014,177337)\n\n(Fireball Cinnamon Whiskey,1850195.199999996,122337)\n"
        }
      ],
      "id": "c95e74d9-defd-44f0-a57a-2b2703ebe1eb"
    },
    {
      "cell_type": "markdown",
      "source": "### Categorie più vendute in termini di fatturato e unità\nQuesto codice stampa i risultati delle categorie più vendute in termini di fatturato e di numero di vendite. In particolare, dopo aver memorizzato la cache dei dati delle categorie, il codice mappa ogni elemento in una tupla in cui la chiave è il nome della categoria e il valore è un'altra tupla contenente il fatturato e il numero di vendite della categoria. Poi, i dati vengono aggregati tramite la funzione reduceByKey che somma i valori associati alla stessa chiave. Successivamente, il risultato viene mappato in una tupla contenente il nome della categoria, il fatturato totale e il numero di vendite totali e viene ordinato in modo decrescente in base al fatturato. Infine, vengono stampati i primi 10 elementi della lista di risultati ottenuti dalla funzione collect().",
      "metadata": {},
      "id": "7a722b03-ed3d-4661-aedc-27dd79ce7e49"
    },
    {
      "cell_type": "code",
      "source": "println(\"Risultato cosi' composto: nomeCategor, fatturato, numero di vendite \\n\")\nval rddCategoriesCached = rddCategories.cache()\nrddCategoriesCached.\n        map(e => (e._2, (e._4, 1))).\n        reduceByKey((t1, t2) => (t1._1 + t2._1, t1._2 + t2._2)).\n        map(v => (v._1, v._2._1, v._2._2)).\n        sortBy(_._2, false).\n        collect().take(10).foreach(println(_))",
      "metadata": {
        "execution": {
          "iopub.execute_input": "2023-03-03T11:27:10.734788Z",
          "iopub.status.busy": "2023-03-03T11:27:10.734475Z",
          "iopub.status.idle": "2023-03-03T11:28:18.276379Z",
          "shell.execute_reply": "2023-03-03T11:28:18.275690Z",
          "shell.execute_reply.started": "2023-03-03T11:27:10.734763Z"
        },
        "tags": []
      },
      "execution_count": 9,
      "outputs": [
        {
          "output_type": "display_data",
          "data": {
            "application/vnd.jupyter.widget-view+json": {
              "model_id": "52df39ae521f47368a19070377837c97",
              "version_major": 2,
              "version_minor": 0
            },
            "text/plain": [
              "VBox()"
            ]
          },
          "metadata": {}
        },
        {
          "output_type": "display_data",
          "data": {
            "application/vnd.jupyter.widget-view+json": {
              "model_id": "",
              "version_major": 2,
              "version_minor": 0
            },
            "text/plain": [
              "FloatProgress(value=0.0, bar_style='info', description='Progress:', layout=Layout(height='25px', width='50%'),…"
            ]
          },
          "metadata": {}
        },
        {
          "name": "stdout",
          "output_type": "stream",
          "text": "Risultato cosi' composto: nomeCategor, fatturato, numero di vendite \n\n\n\nrddCategoriesCached: rddCategories.type = MapPartitionsRDD[14] at flatMap at <console>:26\n\n(American Vodkas,1.4152316429999966E7,140485)\n\n(Canadian Whiskies,1.389965760000001E7,103166)\n\n(VODKA 80 PROOF,9530538.619999986,109531)\n\n(Imported Brandies,8827292.330000015,30078)\n\n(Spiced Rum,7252489.699999989,49083)\n\n(SPICED RUM,7068700.709999999,44743)\n\n(Whiskey Liqueur,6887928.550000002,50702)\n\n(CANADIAN WHISKIES,6197296.109999994,47384)\n\n(TEQUILA,4861197.939999997,35800)\n\n(Straight Bourbon Whiskies,4779353.42,47715)\n"
        }
      ],
      "id": "c58c2440-dafe-4306-a354-aad3f19b81a6"
    },
    {
      "cell_type": "markdown",
      "source": "## Job 1\n### Svolgere un’analisi sul prezzo medio di ogni singolo prodotto per ogni anno\nIl codice ha lo scopo di calcolare il prezzo medio di ogni prodotto per ogni anno e di salvare il risultato in un file CSV.\nIn particolare, il codice esegue le seguenti operazioni:\n\n- Inizialmente, viene eseguita una cache del RDD rddItems e viene creato un nuovo RDD (avgPricesByYear) che associa a ciascuna coppia (nomeProdotto, anno) una tupla contenente la somma dei prezzi e il numero di prodotti venduti durante l'anno considerato.\n- Viene quindi eseguita una riduzione per chiave (reduceByKey) per aggregare i dati raggruppati per nome del prodotto e anno.\n- Successivamente, viene eseguita una mappatura (mapValues) per calcolare il prezzo medio di ogni prodotto per ogni anno.\n- In seguito, viene eseguita una mappatura (map) per riorganizzare i dati e raggrupparli per nome del prodotto.\n- Vengono poi eseguite ulteriori operazioni di trasformazione (flatMap e coalesce) per preparare i dati per il salvataggio su file CSV.\n- Infine, viene convertito l'RDD in un DataFrame e salvato in un file CSV.",
      "metadata": {},
      "id": "ab4fe891-3061-46b9-bfcf-c55bffcb359e"
    },
    {
      "cell_type": "code",
      "source": "val bucketname = \"unibo-bigdata-project\"\nval path_itemsForYear_revenue = \"s3a://\"+bucketname+\"/risultati/satates_revenue\"\n\n// calcolare il prezzo medio di ogni prodotto per ogni anno\nval rddItemsCached = rddItems.cache()\n\nval avgPricesByYear = rddItemsCached.map(item => ((item._2, item._5), (item._3, 1))).//((itemName,anno), (price,1))\n  reduceByKey((accum, value) => (accum._1 + value._1, accum._2 + value._2)).\n  mapValues(sumCount => sumCount._1 / sumCount._2).\n  map(item => (item._1._1, item._2, item._1._2))\n  //collect() //(itemName,avg,year)\n\n// Raggruppo per nomeItem\nval avgPricesByProduct = avgPricesByYear.groupBy(_._1).\n  mapValues(_.map(item => (item._2, item._3)))//.collect()\n\n//flatmap con chiave prodotto e anno\nval avgPricesByProductAndYear = avgPricesByProduct.flatMap { case (itemName, yearPrices) =>\n  yearPrices.map { case (avgPrice, year) =>\n    ((itemName, year), avgPrice)\n  }\n}.coalesce(1)\n\n// Conversione in DataFrame con stringa\nval df = avgPricesByProductAndYear.map{case ((itemName, year), avgPrice) => (itemName,year,avgPrice)}.toDF()\n\n// Salvataggio su file CSV\ndf.write.format(\"csv\").mode(SaveMode.Overwrite).save(path_itemsForYear_revenue)",
      "metadata": {
        "execution": {
          "iopub.execute_input": "2023-03-09T15:23:39.064864Z",
          "iopub.status.busy": "2023-03-09T15:23:39.064561Z",
          "iopub.status.idle": "2023-03-09T15:23:56.412030Z",
          "shell.execute_reply": "2023-03-09T15:23:56.411291Z",
          "shell.execute_reply.started": "2023-03-09T15:23:39.064840Z"
        },
        "tags": []
      },
      "execution_count": null,
      "outputs": [],
      "id": "a8434d6e-cc0d-41f2-a671-e98408f80e72"
    },
    {
      "cell_type": "markdown",
      "source": "## Job 2\n### Svolgere una classificazione dei prodotti in base al fatturato e calcolare il fatturato totale per ogni categoria e fascia di prezzo.\nQuesto codice esegue l'analisi delle vendite di prodotti e calcola il fatturato per categoria e fascia di prezzo dei prodotti. Innanzitutto, il codice memorizza la RDD rddItems nella variabile rddItemsCached, che serve a migliorare le prestazioni durante l'elaborazione. Successivamente, il codice esegue una serie di operazioni su rddItemsCached:\n- map: mappa ogni record dell'RDD in una coppia di chiave-valore in cui la chiave è una tupla formata dal nome del prodotto e il nome della categoria, mentre il valore è una tupla formata dal prezzo del prodotto e 1 (ovvero la quantità di prodotto venduta).\n- reduceByKey: raggruppa le tuple per chiave e somma il prezzo del prodotto e la quantità venduta, restituendo una nuova coppia di chiave-valore in cui la chiave è ancora la tupla prodotto-categoria, mentre il valore è una tupla formata dalla somma dei prezzi e la somma delle quantità vendute.\n- map: mappa la coppia di chiave-valore ottenuta nel passaggio precedente in una tupla formata dal nome del prodotto, il nome della categoria, il fatturato totale e il numero totale di prodotti venduti, in modo da avere un formato più facile da leggere.\n- sortBy: ordina le tuple per fatturato in ordine decrescente.\n\nSuccessivamente, il codice esegue altre operazioni sul RDD risultante:\n\n- map: mappa la coppia di chiave-valore prodotto-fatturato in una coppia di chiave-valore in cui la chiave è il nome del prodotto, mentre il valore è il fatturato totale del prodotto.\n- reduceByKey: raggruppa le tuple per chiave e somma il fatturato per prodotto.\n- map: mappa la coppia di chiave-valore risultante nel passaggio precedente in una coppia di chiave-valore in cui la chiave è il nome del prodotto, mentre il valore è la fascia di prezzo del prodotto. La fascia di prezzo viene assegnata in base al fatturato totale del prodotto e viene mappata utilizzando una serie di espressioni case che controllano se il fatturato del prodotto supera una soglia specifica.\n\nSuccessivamente vengono eseguite le seguenti operazioni:\n\n- join: unisce l'RDD risultante con il RDD che contiene il nome del prodotto, il nome della categoria e il fatturato totale per prodotto e categoria.\n- map: mappa la coppia di chiave-valore risultante dalla join in una nuova coppia di chiave-valore in cui la chiave è una tupla formata dal nome della categoria e la fascia di prezzo del prodotto, mentre il valore è il fatturato totale del prodotto per quella categoria e il Tier.\n- aggregateByKey: raggruppa le tuple per chiave e calcola la somma dei ricavi e il numero di prodotti venduti per categoria e fascia di prezzo.\n- map: mappa la coppia di chiave-valore risultante dalla operazione di aggregazione in una tupla formata dal nome della categoria, la fascia di prezzo, il fatturato totale e il numero totale di prodotti venduti",
      "metadata": {},
      "id": "199d7dc2-251d-4302-816e-17ad91078b93"
    },
    {
      "cell_type": "code",
      "source": "val bucketname = \"unibo-bigdata-project\"\nval path_category_revenue = \"s3a://\"+bucketname+\"/risultati/categories_revenue\"\n\nval rddItemsCached = rddItems.cache()\nval v = rddItemsCached.\n        map(e => ((e._2, e._4), (e._3, 1))). //(nameItem, categoryName),(price,1)\n        reduceByKey((t1, t2) => (t1._1 + t2._1, t1._2 + t2._2)). //(nameItem,categoryName),(fatturato,unitàVendute)\n        map(v => (v._1._1, v._1._2, v._2._1, v._2._2)). //nomeItem, categoryName, fatturato, unitàVendute\n        sortBy(_._3, false)\n\n\nval itemsClassification = v.\n    map(e => (e._1, e._3)). // nomeItem, fatturato\n    reduceByKey(_ + _).\n    map(e => (e._1, e._2 match {\n      case f if f >= 1000000 => \"Top Tier\"\n      case f if f < 1000000 && f >= 100000 => \"Mid Tier\"  \n      case _ => \"Low Tier\"\n      })) //nomeItem, Tier\n\n\nval revenueByCategory = v.\n    map(p => (p._1, (p._3, p._2))). // nomeItem, (fatturato, categoryName)\n    join(itemsClassification). // nomeItem, ((fatturato,categoryName), Tier)\n    map(p => ((p._2._1._2, p._2._2), p._2._1._1)). // (categoryName, Tier), fatturato\n    aggregateByKey((0.0,0))((agg, v) => (agg._1 + v, agg._2 + 1),((agg1,agg2) => (agg1._1 + agg2._1, agg1._2 + agg2._2))). // (categoryName, Tier), price, count\n    map(x => (x._1._1, x._1._2, x._2._1, x._2._2)).// categoryName, Tier, revenue, count\n    coalesce(1)\n\nrevenueByCategory.map(x => x.productIterator.mkString(\",\")).saveAsTextFile(path_category_revenue)",
      "metadata": {
        "execution": {
          "iopub.execute_input": "2023-03-09T15:18:30.625300Z",
          "iopub.status.busy": "2023-03-09T15:18:30.624996Z",
          "iopub.status.idle": "2023-03-09T15:18:47.974560Z",
          "shell.execute_reply": "2023-03-09T15:18:47.973703Z",
          "shell.execute_reply.started": "2023-03-09T15:18:30.625275Z"
        },
        "tags": []
      },
      "execution_count": 7,
      "outputs": [
        {
          "output_type": "display_data",
          "data": {
            "application/vnd.jupyter.widget-view+json": {
              "model_id": "dc24cc5477694c7cbcec7849dac8f3ed",
              "version_major": 2,
              "version_minor": 0
            },
            "text/plain": [
              "VBox()"
            ]
          },
          "metadata": {}
        },
        {
          "output_type": "display_data",
          "data": {
            "application/vnd.jupyter.widget-view+json": {
              "model_id": "",
              "version_major": 2,
              "version_minor": 0
            },
            "text/plain": [
              "FloatProgress(value=0.0, bar_style='info', description='Progress:', layout=Layout(height='25px', width='50%'),…"
            ]
          },
          "metadata": {}
        },
        {
          "name": "stdout",
          "output_type": "stream",
          "text": "bucketname: String = unibo-bigdata-project\n\npath_category_revenue: String = s3a://unibo-bigdata-project/risultati/categories_revenue\n\nrddItemsCached: rddItems.type = MapPartitionsRDD[5] at flatMap at <console>:26\n\nv: org.apache.spark.rdd.RDD[(String, String, Double, Int)] = MapPartitionsRDD[58] at sortBy at <console>:29\n\nitemsClassification: org.apache.spark.rdd.RDD[(String, String)] = MapPartitionsRDD[61] at map at <console>:29\n\nrevenueByCategory: org.apache.spark.rdd.RDD[(String, String, Double, Int)] = CoalescedRDD[69] at coalesce at <console>:33\n"
        }
      ],
      "id": "bfc52b0b-b04c-4f75-838d-b25e89d4b5aa"
    }
  ]
}